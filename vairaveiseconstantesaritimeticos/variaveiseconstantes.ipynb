{
  "nbformat": 4,
  "nbformat_minor": 0,
  "metadata": {
    "colab": {
      "provenance": [],
      "authorship_tag": "ABX9TyPGrz+eEQQ8IgaUYEy6y4xo",
      "include_colab_link": true
    },
    "kernelspec": {
      "name": "python3",
      "display_name": "Python 3"
    },
    "language_info": {
      "name": "python"
    }
  },
  "cells": [
    {
      "cell_type": "markdown",
      "metadata": {
        "id": "view-in-github",
        "colab_type": "text"
      },
      "source": [
        "<a href=\"https://colab.research.google.com/github/matheusmolon2/PA_2025/blob/main/vairaveiseconstantesaritimeticos/variaveiseconstantes.ipynb\" target=\"_parent\"><img src=\"https://colab.research.google.com/assets/colab-badge.svg\" alt=\"Open In Colab\"/></a>"
      ]
    },
    {
      "cell_type": "markdown",
      "source": [
        "#variaveis e constantes"
      ],
      "metadata": {
        "id": "2QQErkSNhV7H"
      }
    },
    {
      "cell_type": "code",
      "source": [
        "idade = 15\n",
        "altura = 1.77\n",
        "nome = \"Matheus Henrique\"\n",
        "vai = True\n"
      ],
      "metadata": {
        "id": "IM0kZL_2gjJ1"
      },
      "execution_count": null,
      "outputs": []
    },
    {
      "cell_type": "code",
      "source": [
        "nomes = ['Matheus Henrique', 'Lucas', 'Pedro']\n",
        "nomes2 = ['Matheus Molon', 'Liza', 'Paulo']\n",
        "tudo = {nome:'Matheus Henrique',idade: 15,altura:1.77}"
      ],
      "metadata": {
        "id": "iE_Hf0_Dhlj5"
      },
      "execution_count": null,
      "outputs": []
    },
    {
      "cell_type": "code",
      "source": [
        "print(nome)\n",
        "print(nomes)\n",
        "print(nomes2)\n",
        "print(tudo)"
      ],
      "metadata": {
        "colab": {
          "base_uri": "https://localhost:8080/"
        },
        "id": "HnryX4K8jvId",
        "outputId": "dc16e593-af79-409a-976a-2c1dff64ab3c"
      },
      "execution_count": null,
      "outputs": [
        {
          "output_type": "stream",
          "name": "stdout",
          "text": [
            "Matheus Henrique\n",
            "['Matheus Henrique', 'Lucas', 'Pedro']\n",
            "['Matheus Molon', 'Liza', 'Paulo']\n",
            "{'Matheus Henrique': 'Matheus Henrique', 15: 15, 1.77: 1.77}\n"
          ]
        }
      ]
    },
    {
      "cell_type": "code",
      "source": [
        "print(type(idade))\n",
        "print(type(altura))\n",
        "print(type(vai))\n",
        "print(type(nome))\n",
        "print(type(nomes))\n",
        "print(type(nomes2))\n",
        "print(type(tudo))"
      ],
      "metadata": {
        "colab": {
          "base_uri": "https://localhost:8080/"
        },
        "id": "CjfkgdFbktES",
        "outputId": "f3fe93c4-6427-44d6-cf83-233315d643c4"
      },
      "execution_count": null,
      "outputs": [
        {
          "output_type": "stream",
          "name": "stdout",
          "text": [
            "<class 'int'>\n",
            "<class 'float'>\n",
            "<class 'bool'>\n",
            "<class 'str'>\n",
            "<class 'list'>\n",
            "<class 'list'>\n",
            "<class 'dict'>\n"
          ]
        }
      ]
    },
    {
      "cell_type": "code",
      "source": [
        "print(\"O nome dele é:\",nome,\",Sua idade é:\",idade,\"anos, ele tem\",altura,\"metros.\")"
      ],
      "metadata": {
        "colab": {
          "base_uri": "https://localhost:8080/"
        },
        "id": "V061pE8PmEVh",
        "outputId": "db3cf25c-0373-4062-a583-45495c913cf8"
      },
      "execution_count": null,
      "outputs": [
        {
          "output_type": "stream",
          "name": "stdout",
          "text": [
            "O nome dele é: Matheus Henrique ,Sua idade é: 15 anos, ele tem 1.77 metros.\n"
          ]
        }
      ]
    },
    {
      "cell_type": "code",
      "source": [
        "print(f\"O nome dele é : {nome}. A Altura é:{altura} metros\")"
      ],
      "metadata": {
        "colab": {
          "base_uri": "https://localhost:8080/"
        },
        "id": "IJs_M4LSsBTo",
        "outputId": "0c667f44-940f-4608-ed9d-9fa8e2b2ab60"
      },
      "execution_count": null,
      "outputs": [
        {
          "output_type": "stream",
          "name": "stdout",
          "text": [
            "O nome dele é : Matheus Henrique. A Altura é:1.77 metros\n"
          ]
        }
      ]
    },
    {
      "cell_type": "markdown",
      "source": [
        "#Área do círculo"
      ],
      "metadata": {
        "id": "FsRC2bxVvfgX"
      }
    },
    {
      "cell_type": "code",
      "source": [
        "PI = 3.14159\n",
        "raio =float(input(\"Digite o valor do raio do circulo: \"))"
      ],
      "metadata": {
        "colab": {
          "base_uri": "https://localhost:8080/"
        },
        "id": "EgKRTZ5KvvtD",
        "outputId": "85b3f401-f52a-4e85-f480-03379bf45bb0"
      },
      "execution_count": null,
      "outputs": [
        {
          "name": "stdout",
          "output_type": "stream",
          "text": [
            "Digite o valor do raio do circulo: 7\n"
          ]
        }
      ]
    },
    {
      "cell_type": "code",
      "source": [
        "areacir = PI * (raio**2)"
      ],
      "metadata": {
        "id": "Stg3j1KiwZ-g"
      },
      "execution_count": null,
      "outputs": []
    },
    {
      "cell_type": "code",
      "source": [
        "print(f\"A ara ea do circulo é {areacir}\")"
      ],
      "metadata": {
        "colab": {
          "base_uri": "https://localhost:8080/"
        },
        "id": "GANSqvqlxO8L",
        "outputId": "89b90d40-60c7-49c9-f600-53255ecbdfcb"
      },
      "execution_count": null,
      "outputs": [
        {
          "output_type": "stream",
          "name": "stdout",
          "text": [
            "A ara ea do circulo é 153.93791\n"
          ]
        }
      ]
    },
    {
      "cell_type": "markdown",
      "source": [
        "\n",
        "\n",
        "# ÁREA DO CIRCULO\n"
      ],
      "metadata": {
        "id": "Z8Wwcq7NzwSx"
      }
    },
    {
      "cell_type": "code",
      "source": [
        "lado = float(input(\"digite o  valor aqui \"))\n",
        "area = lado**2\n",
        "\n",
        "print(f\"area do quadrado é igual a : {area}\")"
      ],
      "metadata": {
        "colab": {
          "base_uri": "https://localhost:8080/"
        },
        "id": "fjeIPPRWz7sf",
        "outputId": "c8425494-e0f4-4970-e659-4b6205cb18f8"
      },
      "execution_count": null,
      "outputs": [
        {
          "output_type": "stream",
          "name": "stdout",
          "text": [
            "digite o  valor aqui 8\n",
            "area do quadrado é igual a : 64.0\n"
          ]
        }
      ]
    },
    {
      "cell_type": "markdown",
      "source": [
        "# Exercícios"
      ],
      "metadata": {
        "id": "BSJK3U9jo2uX"
      }
    },
    {
      "cell_type": "markdown",
      "source": [
        "## Exercício 1 - Área do Retângulo\n",
        "\n",
        "Crie um programa que calcule a área de um retângulo usando uma constante para representar a base.\n",
        "\n",
        " Fórmula: A = base × altura"
      ],
      "metadata": {
        "id": "i3drS7WWpBFp"
      }
    },
    {
      "cell_type": "code",
      "source": [
        "base =float(input(\"digite o valor da base: \"))\n",
        "altura =float(input(\"digite o valor da altura: \"))"
      ],
      "metadata": {
        "colab": {
          "base_uri": "https://localhost:8080/"
        },
        "id": "4AAUzH-Wpems",
        "outputId": "09f1b110-fc51-46fe-c076-456a0b212df6"
      },
      "execution_count": 3,
      "outputs": [
        {
          "name": "stdout",
          "output_type": "stream",
          "text": [
            "digite o valor da base: 7\n",
            "digite o valor da altura: 3\n"
          ]
        }
      ]
    },
    {
      "cell_type": "code",
      "source": [
        "arearetan = base*altura"
      ],
      "metadata": {
        "id": "UW6kmCvWrfyS"
      },
      "execution_count": 5,
      "outputs": []
    },
    {
      "cell_type": "code",
      "source": [
        "  print(f\"digite a área do retangulo :{arearetan}\")"
      ],
      "metadata": {
        "colab": {
          "base_uri": "https://localhost:8080/"
        },
        "id": "rUbT2N_ksJRn",
        "outputId": "a97fc3c6-5e48-4314-e1e1-7560f7c21e21"
      },
      "execution_count": 7,
      "outputs": [
        {
          "output_type": "stream",
          "name": "stdout",
          "text": [
            "digite a área do retangulo :21.0\n"
          ]
        }
      ]
    },
    {
      "cell_type": "markdown",
      "source": [
        "## Exercício 2 – Perímetro do Círculo\n",
        "\n",
        "Crie um programa que calcule o perímetro de um círculo usando a constante π.\n",
        "\n",
        " Fórmula: P = 2 × π × r"
      ],
      "metadata": {
        "id": "4GTGKttusnMP"
      }
    },
    {
      "cell_type": "code",
      "source": [
        "raio = float(input(\"digite o valor do raio: \"))\n",
        "PI = float(input(\"digite o valor de PI: \"))"
      ],
      "metadata": {
        "colab": {
          "base_uri": "https://localhost:8080/"
        },
        "id": "ZnCJkopns4X-",
        "outputId": "f1d648bd-e931-4484-efb5-4a5bca842cc9"
      },
      "execution_count": 10,
      "outputs": [
        {
          "name": "stdout",
          "output_type": "stream",
          "text": [
            "digite o valor do raio: 15\n",
            "digite o valor de PI: 3.14159\n"
          ]
        }
      ]
    },
    {
      "cell_type": "code",
      "source": [
        "perimetro = 2*PI*raio"
      ],
      "metadata": {
        "id": "JMhNXpPyt67m"
      },
      "execution_count": 12,
      "outputs": []
    },
    {
      "cell_type": "code",
      "source": [
        "perimetro"
      ],
      "metadata": {
        "colab": {
          "base_uri": "https://localhost:8080/"
        },
        "id": "cbtxOfZNuU6O",
        "outputId": "ba195c09-ea11-4cd5-f2e1-c32b2742a025"
      },
      "execution_count": 13,
      "outputs": [
        {
          "output_type": "execute_result",
          "data": {
            "text/plain": [
              "94.2477"
            ]
          },
          "metadata": {},
          "execution_count": 13
        }
      ]
    },
    {
      "cell_type": "markdown",
      "source": [
        "## Exercício 3 – Conversão de Temperatura\n",
        "\n",
        "Crie um programa que converta uma temperatura de Fahrenheit para Celsius.\n",
        "\n",
        " Fórmula: C = (F - 32) × 5/9"
      ],
      "metadata": {
        "id": "p6V-kBJQuk4C"
      }
    },
    {
      "cell_type": "code",
      "source": [
        "fahrenheit = float(input(\"digite o valor da temperatura em faherenhait: \"))"
      ],
      "metadata": {
        "colab": {
          "base_uri": "https://localhost:8080/"
        },
        "id": "MORteRDbuuCN",
        "outputId": "630def7e-3b5b-4172-9218-cdfafb86af1d"
      },
      "execution_count": 14,
      "outputs": [
        {
          "name": "stdout",
          "output_type": "stream",
          "text": [
            "digite o valor da temperatura em faherenhait: 79\n"
          ]
        }
      ]
    },
    {
      "cell_type": "code",
      "source": [
        "celsius = (fahrenheit - 32)*5/9"
      ],
      "metadata": {
        "id": "-LEbY-c8vOn2"
      },
      "execution_count": 15,
      "outputs": []
    },
    {
      "cell_type": "code",
      "source": [
        "celsius"
      ],
      "metadata": {
        "colab": {
          "base_uri": "https://localhost:8080/"
        },
        "id": "SXlrQKFWwF6x",
        "outputId": "1a22ebdf-0c5f-405a-d0d4-0cededb147ef"
      },
      "execution_count": 17,
      "outputs": [
        {
          "output_type": "execute_result",
          "data": {
            "text/plain": [
              "26.11111111111111"
            ]
          },
          "metadata": {},
          "execution_count": 17
        }
      ]
    },
    {
      "cell_type": "markdown",
      "source": [
        "## Exercício 4 – Cálculo do IMC\n",
        "\n",
        "Crie um programa que calcule o Índice de Massa Corporal (IMC) de uma pessoa.\n",
        "\n",
        " Fórmula: IMC = peso / altura²"
      ],
      "metadata": {
        "id": "pvOH-BYYwXKt"
      }
    },
    {
      "cell_type": "code",
      "source": [
        "peso = float(input(\"digite o valor do peso:\" ))\n",
        "altura = float(input(\"digite o valor da altura:\" ))"
      ],
      "metadata": {
        "colab": {
          "base_uri": "https://localhost:8080/"
        },
        "id": "tb-ck_pRwc9V",
        "outputId": "29f8f3d6-f4de-4f95-d5e6-bff89e0ea9d0"
      },
      "execution_count": 18,
      "outputs": [
        {
          "name": "stdout",
          "output_type": "stream",
          "text": [
            "digite o valor do peso:83\n",
            "digite o valor da altura:1.77\n"
          ]
        }
      ]
    },
    {
      "cell_type": "code",
      "source": [
        "imc = peso/(altura**2)"
      ],
      "metadata": {
        "id": "uBSTaFl6xUfx"
      },
      "execution_count": 19,
      "outputs": []
    },
    {
      "cell_type": "code",
      "source": [
        "imc"
      ],
      "metadata": {
        "colab": {
          "base_uri": "https://localhost:8080/"
        },
        "id": "ytv16OJOxxST",
        "outputId": "5eb09793-1c01-44a2-9488-0bd2ee89f39e"
      },
      "execution_count": 20,
      "outputs": [
        {
          "output_type": "execute_result",
          "data": {
            "text/plain": [
              "26.493025631204315"
            ]
          },
          "metadata": {},
          "execution_count": 20
        }
      ]
    }
  ]
}