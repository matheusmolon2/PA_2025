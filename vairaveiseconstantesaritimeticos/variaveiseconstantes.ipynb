{
  "nbformat": 4,
  "nbformat_minor": 0,
  "metadata": {
    "colab": {
      "provenance": [],
      "authorship_tag": "ABX9TyMHHB8VAOEv+sUX7fAPkW7N",
      "include_colab_link": true
    },
    "kernelspec": {
      "name": "python3",
      "display_name": "Python 3"
    },
    "language_info": {
      "name": "python"
    }
  },
  "cells": [
    {
      "cell_type": "markdown",
      "metadata": {
        "id": "view-in-github",
        "colab_type": "text"
      },
      "source": [
        "<a href=\"https://colab.research.google.com/github/matheusmolon2/PA_2025/blob/main/vairaveiseconstantesaritimeticos/variaveiseconstantes.ipynb\" target=\"_parent\"><img src=\"https://colab.research.google.com/assets/colab-badge.svg\" alt=\"Open In Colab\"/></a>"
      ]
    },
    {
      "cell_type": "markdown",
      "source": [
        "#variaveis e constantes"
      ],
      "metadata": {
        "id": "2QQErkSNhV7H"
      }
    },
    {
      "cell_type": "code",
      "source": [
        "idade = 15\n",
        "altura = 1.77\n",
        "nome = \"Matheus Henrique\"\n",
        "vai = True\n"
      ],
      "metadata": {
        "id": "IM0kZL_2gjJ1"
      },
      "execution_count": null,
      "outputs": []
    },
    {
      "cell_type": "code",
      "source": [
        "nomes = ['Matheus Henrique', 'Lucas', 'Pedro']\n",
        "nomes2 = ['Matheus Molon', 'Liza', 'Paulo']\n",
        "tudo = {nome:'Matheus Henrique',idade: 15,altura:1.77}"
      ],
      "metadata": {
        "id": "iE_Hf0_Dhlj5"
      },
      "execution_count": null,
      "outputs": []
    },
    {
      "cell_type": "code",
      "source": [
        "print(nome)\n",
        "print(nomes)\n",
        "print(nomes2)\n",
        "print(tudo)"
      ],
      "metadata": {
        "colab": {
          "base_uri": "https://localhost:8080/"
        },
        "id": "HnryX4K8jvId",
        "outputId": "dc16e593-af79-409a-976a-2c1dff64ab3c"
      },
      "execution_count": null,
      "outputs": [
        {
          "output_type": "stream",
          "name": "stdout",
          "text": [
            "Matheus Henrique\n",
            "['Matheus Henrique', 'Lucas', 'Pedro']\n",
            "['Matheus Molon', 'Liza', 'Paulo']\n",
            "{'Matheus Henrique': 'Matheus Henrique', 15: 15, 1.77: 1.77}\n"
          ]
        }
      ]
    },
    {
      "cell_type": "code",
      "source": [
        "print(type(idade))\n",
        "print(type(altura))\n",
        "print(type(vai))\n",
        "print(type(nome))\n",
        "print(type(nomes))\n",
        "print(type(nomes2))\n",
        "print(type(tudo))"
      ],
      "metadata": {
        "colab": {
          "base_uri": "https://localhost:8080/"
        },
        "id": "CjfkgdFbktES",
        "outputId": "f3fe93c4-6427-44d6-cf83-233315d643c4"
      },
      "execution_count": null,
      "outputs": [
        {
          "output_type": "stream",
          "name": "stdout",
          "text": [
            "<class 'int'>\n",
            "<class 'float'>\n",
            "<class 'bool'>\n",
            "<class 'str'>\n",
            "<class 'list'>\n",
            "<class 'list'>\n",
            "<class 'dict'>\n"
          ]
        }
      ]
    },
    {
      "cell_type": "code",
      "source": [
        "print(\"O nome dele é:\",nome,\",Sua idade é:\",idade,\"anos, ele tem\",altura,\"metros.\")"
      ],
      "metadata": {
        "colab": {
          "base_uri": "https://localhost:8080/"
        },
        "id": "V061pE8PmEVh",
        "outputId": "db3cf25c-0373-4062-a583-45495c913cf8"
      },
      "execution_count": null,
      "outputs": [
        {
          "output_type": "stream",
          "name": "stdout",
          "text": [
            "O nome dele é: Matheus Henrique ,Sua idade é: 15 anos, ele tem 1.77 metros.\n"
          ]
        }
      ]
    },
    {
      "cell_type": "code",
      "source": [
        "print(f\"O nome dele é : {nome}. A Altura é:{altura} metros\")"
      ],
      "metadata": {
        "colab": {
          "base_uri": "https://localhost:8080/"
        },
        "id": "IJs_M4LSsBTo",
        "outputId": "0c667f44-940f-4608-ed9d-9fa8e2b2ab60"
      },
      "execution_count": null,
      "outputs": [
        {
          "output_type": "stream",
          "name": "stdout",
          "text": [
            "O nome dele é : Matheus Henrique. A Altura é:1.77 metros\n"
          ]
        }
      ]
    },
    {
      "cell_type": "markdown",
      "source": [
        "#Área do círculo"
      ],
      "metadata": {
        "id": "FsRC2bxVvfgX"
      }
    },
    {
      "cell_type": "code",
      "source": [
        "PI = 3.14159\n",
        "raio =float(input(\"Digite o valor do raio do circulo: \"))"
      ],
      "metadata": {
        "colab": {
          "base_uri": "https://localhost:8080/"
        },
        "id": "EgKRTZ5KvvtD",
        "outputId": "85b3f401-f52a-4e85-f480-03379bf45bb0"
      },
      "execution_count": null,
      "outputs": [
        {
          "name": "stdout",
          "output_type": "stream",
          "text": [
            "Digite o valor do raio do circulo: 7\n"
          ]
        }
      ]
    },
    {
      "cell_type": "code",
      "source": [
        "areacir = PI * (raio**2)"
      ],
      "metadata": {
        "id": "Stg3j1KiwZ-g"
      },
      "execution_count": null,
      "outputs": []
    },
    {
      "cell_type": "code",
      "source": [
        "print(f\"A ara ea do circulo é {areacir}\")"
      ],
      "metadata": {
        "colab": {
          "base_uri": "https://localhost:8080/"
        },
        "id": "GANSqvqlxO8L",
        "outputId": "89b90d40-60c7-49c9-f600-53255ecbdfcb"
      },
      "execution_count": null,
      "outputs": [
        {
          "output_type": "stream",
          "name": "stdout",
          "text": [
            "A ara ea do circulo é 153.93791\n"
          ]
        }
      ]
    },
    {
      "cell_type": "markdown",
      "source": [
        "\n",
        "\n",
        "ÁREA DO QUADRADO"
      ],
      "metadata": {
        "id": "Z8Wwcq7NzwSx"
      }
    },
    {
      "cell_type": "code",
      "source": [
        "lado = float(input(\"digite o  valor aqui \"))\n",
        "area = lado**2\n",
        "\n",
        "print(f\"area do quadrado é igual a : {area}\")"
      ],
      "metadata": {
        "colab": {
          "base_uri": "https://localhost:8080/"
        },
        "id": "fjeIPPRWz7sf",
        "outputId": "c8425494-e0f4-4970-e659-4b6205cb18f8"
      },
      "execution_count": null,
      "outputs": [
        {
          "output_type": "stream",
          "name": "stdout",
          "text": [
            "digite o  valor aqui 8\n",
            "area do quadrado é igual a : 64.0\n"
          ]
        }
      ]
    }
  ]
}