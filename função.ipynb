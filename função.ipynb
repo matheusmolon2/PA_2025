{
  "nbformat": 4,
  "nbformat_minor": 0,
  "metadata": {
    "colab": {
      "provenance": [],
      "authorship_tag": "ABX9TyNdHIDlJwTjECoqrQt/oi0h",
      "include_colab_link": true
    },
    "kernelspec": {
      "name": "python3",
      "display_name": "Python 3"
    },
    "language_info": {
      "name": "python"
    }
  },
  "cells": [
    {
      "cell_type": "markdown",
      "metadata": {
        "id": "view-in-github",
        "colab_type": "text"
      },
      "source": [
        "<a href=\"https://colab.research.google.com/github/matheusmolon2/PA_2025/blob/main/fun%C3%A7%C3%A3o.ipynb\" target=\"_parent\"><img src=\"https://colab.research.google.com/assets/colab-badge.svg\" alt=\"Open In Colab\"/></a>"
      ]
    },
    {
      "cell_type": "markdown",
      "source": [
        "##Função com Parâmetro e sem Retorno\n",
        "\n"
      ],
      "metadata": {
        "id": "h8WlWSiWNuRz"
      }
    },
    {
      "cell_type": "code",
      "execution_count": null,
      "metadata": {
        "id": "0xLezDcLMXrX"
      },
      "outputs": [],
      "source": [
        "def soma(x,y):\n",
        "  total = x+y\n",
        "  print(total)\n",
        "\n",
        "def diminuir(x,y):\n",
        "  subtrai = x-y\n",
        "  print(subtrai)\n"
      ]
    },
    {
      "cell_type": "code",
      "source": [
        "def apresentar(nome):\n",
        "  print(f\"Olá, {nome}! Prazer em te conhecer.\")"
      ],
      "metadata": {
        "id": "g0yWV0s0Yjjx"
      },
      "execution_count": null,
      "outputs": []
    },
    {
      "cell_type": "code",
      "source": [
        "nome = input(\"Digite seu nome:\")\n",
        "apresentar(nome)"
      ],
      "metadata": {
        "colab": {
          "base_uri": "https://localhost:8080/"
        },
        "id": "dehYedFhY0WO",
        "outputId": "697b7d68-127b-4fe6-ca87-223024465ef1"
      },
      "execution_count": null,
      "outputs": [
        {
          "output_type": "stream",
          "name": "stdout",
          "text": [
            "Digite seu nome:Matheus\n",
            "Olá, Matheus! Prazer em te conhecer.\n"
          ]
        }
      ]
    },
    {
      "cell_type": "code",
      "source": [
        "def verificar_paridade(numero):\n",
        "  if numero % 2 == 0:\n",
        "      print(f\"O numero {numero}é par\")\n",
        "  else:\n",
        "    print(f\"o numero {numero} é impar\")\n",
        "\n",
        "verificar_paridade(7)\n",
        "verificar_paridade(12)"
      ],
      "metadata": {
        "colab": {
          "base_uri": "https://localhost:8080/"
        },
        "id": "oz9iroM0Z9Ht",
        "outputId": "b9463c29-8735-4a8b-8ca7-c21d409c782c"
      },
      "execution_count": null,
      "outputs": [
        {
          "output_type": "stream",
          "name": "stdout",
          "text": [
            "o numero 7 é impar\n",
            "O numero 12é par\n"
          ]
        }
      ]
    },
    {
      "cell_type": "markdown",
      "source": [
        "##Função sem Parâmetro e com Retorno\n"
      ],
      "metadata": {
        "id": "MwqO69Y6RYnk"
      }
    },
    {
      "cell_type": "code",
      "source": [
        "def mult(x,y):\n",
        "  total = x*y\n",
        "  return total\n",
        "def divisao(x,y):\n",
        "  total = x/y\n",
        "  return total"
      ],
      "metadata": {
        "id": "cQidYLmgRX6d"
      },
      "execution_count": null,
      "outputs": []
    },
    {
      "cell_type": "code",
      "source": [
        "def mensagem():\n",
        "  return \"Hoje é um ótimo dia para programar!\""
      ],
      "metadata": {
        "id": "g7zglGsWcLMY"
      },
      "execution_count": null,
      "outputs": []
    },
    {
      "cell_type": "code",
      "source": [
        "usar = mensagem()\n",
        "print(\"É sexta,\", usar)"
      ],
      "metadata": {
        "colab": {
          "base_uri": "https://localhost:8080/"
        },
        "id": "zAzB9G5kcp1x",
        "outputId": "3b2d08a5-4f3c-40e6-8dc7-217742778870"
      },
      "execution_count": null,
      "outputs": [
        {
          "output_type": "stream",
          "name": "stdout",
          "text": [
            "É sexta, Hoje é um ótimo dia para programar!\n"
          ]
        }
      ]
    },
    {
      "cell_type": "markdown",
      "source": [
        "##agora vou chamar asa funçoes\n",
        "\n",
        "\n",
        "\n"
      ],
      "metadata": {
        "id": "6HFfaEjBN9MK"
      }
    },
    {
      "cell_type": "code",
      "source": [
        "valor1 = float(input(\"Digite o primeiro valor:\"))\n",
        "valor2 = float(input(\"Digite o segundo valor:\"))\n",
        "\n",
        "soma(valor1,valor2)\n",
        "diminuir(valor1,valor2)"
      ],
      "metadata": {
        "colab": {
          "base_uri": "https://localhost:8080/"
        },
        "id": "RaGnluZ1N7C6",
        "outputId": "b2dee559-61d0-422e-dcb4-453cbadd8cf6"
      },
      "execution_count": null,
      "outputs": [
        {
          "output_type": "stream",
          "name": "stdout",
          "text": [
            "Digite o primeiro valor:10\n",
            "Digite o segundo valor:8\n",
            "18.0\n",
            "2.0\n"
          ]
        }
      ]
    },
    {
      "cell_type": "code",
      "source": [
        "print(total)\n",
        "print(subtrai)"
      ],
      "metadata": {
        "id": "bdUWHMpXQSN3"
      },
      "execution_count": null,
      "outputs": []
    },
    {
      "cell_type": "markdown",
      "source": [
        "##Chamando uma função com retorno\n"
      ],
      "metadata": {
        "id": "LDeMnjWGSgNk"
      }
    },
    {
      "cell_type": "code",
      "source": [
        "valor1 = float(input(\"Digite o primeiro valor:\"))\n",
        "valor2 = float(input(\"Digite o segundo valor:\"))\n",
        "\n",
        "multiplicacao = mult(valor1,valor2)\n",
        "divisao = divisao(valor1,valor2)\n",
        "\n",
        "print(\"A multiplicação é:\",multiplicacao)\n",
        "print(\"O resultado da divisão é:\",divisao)"
      ],
      "metadata": {
        "colab": {
          "base_uri": "https://localhost:8080/"
        },
        "id": "_lrv-IjQSn5y",
        "outputId": "9116e691-578d-4cdf-fe88-33f89b025232"
      },
      "execution_count": null,
      "outputs": [
        {
          "output_type": "stream",
          "name": "stdout",
          "text": [
            "Digite o primeiro valor:10\n",
            "Digite o segundo valor:2\n",
            "A multiplicação é: 20.0\n",
            "O resultado da divisão é: 5.0\n"
          ]
        }
      ]
    },
    {
      "cell_type": "markdown",
      "source": [
        "## funções sem retorno e sem parametro"
      ],
      "metadata": {
        "id": "Gj82_T00U5d3"
      }
    },
    {
      "cell_type": "code",
      "source": [
        "def saudacao():\n",
        "  print(\"Olá! Seja bem-vindo(a) ao curso de Python!\")"
      ],
      "metadata": {
        "id": "TOZiDzFzVJrO"
      },
      "execution_count": null,
      "outputs": []
    },
    {
      "cell_type": "code",
      "source": [
        "saudacao()\n"
      ],
      "metadata": {
        "colab": {
          "base_uri": "https://localhost:8080/"
        },
        "id": "gFzx8h8bVSw1",
        "outputId": "430be416-e311-4ba8-c600-e7a164f9c8f2"
      },
      "execution_count": null,
      "outputs": [
        {
          "output_type": "stream",
          "name": "stdout",
          "text": [
            "Olá! Seja bem-vindo(a) ao curso de Python!\n"
          ]
        }
      ]
    },
    {
      "cell_type": "code",
      "source": [
        "from datetime import datetime\n",
        "\n",
        "def mostrar_horario():\n",
        "    agora = datetime.now()\n",
        "    print(f\"Horário atual: {agora.strftime('%H:%M:%S')}\")"
      ],
      "metadata": {
        "id": "wpshMsFvW7-K"
      },
      "execution_count": null,
      "outputs": []
    },
    {
      "cell_type": "code",
      "source": [
        "mostrar_horario()"
      ],
      "metadata": {
        "colab": {
          "base_uri": "https://localhost:8080/"
        },
        "id": "lOWu1u60W_ch",
        "outputId": "8d5c8402-07ba-40bf-8830-c7c887d2824f"
      },
      "execution_count": null,
      "outputs": [
        {
          "output_type": "stream",
          "name": "stdout",
          "text": [
            "Horário atual: 18:22:59\n"
          ]
        }
      ]
    },
    {
      "cell_type": "code",
      "source": [
        "def somanotas():\n",
        "  nota1 =float(input(\"digite a primeira nota:\"))\n",
        "  nota2 =float(input(\"digite a segunda nota:\"))\n",
        "  nota3 =float(input(\"digite a terceira nota:\"))\n",
        "  soma = nota1+nota2+nota3\n",
        "  return soma"
      ],
      "metadata": {
        "id": "XXZQ5sgRomcq"
      },
      "execution_count": null,
      "outputs": []
    },
    {
      "cell_type": "code",
      "source": [
        "somadastresnotas=somanotas()"
      ],
      "metadata": {
        "colab": {
          "base_uri": "https://localhost:8080/"
        },
        "id": "W0Zc410UpdPD",
        "outputId": "1c94a2db-46d2-4aa6-dfee-c8a616dff151"
      },
      "execution_count": null,
      "outputs": [
        {
          "name": "stdout",
          "output_type": "stream",
          "text": [
            "digite a primeira nota:8\n",
            "digite a segunda nota:7.5\n",
            "digite a terceira nota:8.5\n"
          ]
        }
      ]
    },
    {
      "cell_type": "code",
      "source": [
        "print(\"A soma das notas é:\",somadastresnotas)"
      ],
      "metadata": {
        "colab": {
          "base_uri": "https://localhost:8080/"
        },
        "id": "SwRpPApDrqxU",
        "outputId": "c7875d18-2fcb-4a8d-a915-c471f5791cdf"
      },
      "execution_count": null,
      "outputs": [
        {
          "output_type": "stream",
          "name": "stdout",
          "text": [
            "A soma das notas é: 24.0\n"
          ]
        }
      ]
    },
    {
      "cell_type": "code",
      "source": [
        "print(\"a media é:\",mediadasnotas(somadastresnotas))"
      ],
      "metadata": {
        "colab": {
          "base_uri": "https://localhost:8080/"
        },
        "id": "tNYb_lMZqWXP",
        "outputId": "7e3af31b-b7a6-4af6-f382-2c3bf70e139b"
      },
      "execution_count": null,
      "outputs": [
        {
          "output_type": "stream",
          "name": "stdout",
          "text": [
            "a media é: 8.0\n"
          ]
        }
      ]
    },
    {
      "cell_type": "code",
      "source": [
        "def mediadasnotas(somadastresnotas):\n",
        "  media = somadastresnotas/3\n",
        "  return media"
      ],
      "metadata": {
        "id": "wweEtIlMpmuR"
      },
      "execution_count": null,
      "outputs": []
    },
    {
      "cell_type": "markdown",
      "source": [
        "##Exemplo de uma compra:\n"
      ],
      "metadata": {
        "id": "YNzJClreP8ny"
      }
    },
    {
      "cell_type": "code",
      "source": [
        "def calcular_total(preco_unitario, quantidade):\n",
        "  total = preco_unitario * quantidade\n",
        "  return total\n",
        "\n",
        "valor = calcular_total(25.50, 3)\n",
        "print(f\"o valor total da compra é R$ {valor:2f}\")"
      ],
      "metadata": {
        "colab": {
          "base_uri": "https://localhost:8080/"
        },
        "id": "4FQks1v1QJaM",
        "outputId": "2156cd5c-229b-47bc-c4c7-e455d812a6cb"
      },
      "execution_count": 2,
      "outputs": [
        {
          "output_type": "stream",
          "name": "stdout",
          "text": [
            "o valor total da compra é R$ 76.500000\n"
          ]
        }
      ]
    },
    {
      "cell_type": "code",
      "source": [
        "def calcular_imc(peso, altura):\n",
        "  imc = peso / (altura ** 2)\n",
        "  return imc\n",
        "\n",
        "\n",
        "peso = float(input(\"Digite seu peso (kg): \"))\n",
        "altura = float(input(\"Digite a sua altura (m): \"))\n",
        "\n",
        "resultado = calcular_imc(peso, altura)\n",
        "print(f\"seu imc é {resultado:.2f}\")\n",
        "\n",
        "\n",
        "\n"
      ],
      "metadata": {
        "colab": {
          "base_uri": "https://localhost:8080/"
        },
        "id": "Uw4M2CpDRZHT",
        "outputId": "ad1dff71-a476-4d80-9435-18d8084601d1"
      },
      "execution_count": 9,
      "outputs": [
        {
          "output_type": "stream",
          "name": "stdout",
          "text": [
            "Digite seu peso (kg): 80\n",
            "Digite a sua altura (m): 1.73\n",
            "seu imc é 26.73\n"
          ]
        }
      ]
    },
    {
      "cell_type": "markdown",
      "source": [
        "##Agora uma função que possui mai de dois retornos:"
      ],
      "metadata": {
        "id": "m_tEGBKKTzd6"
      }
    },
    {
      "cell_type": "code",
      "source": [
        "def calcular_soma_e_media(a, b, c):\n",
        "  soma = a + b + c\n",
        "  media = soma / 3\n",
        "  return soma, media\n",
        "\n",
        "n1 = float(input(\"Digite o primeiro número: \"))\n",
        "n2 = float(input(\"Digite o segundo número: \"))\n",
        "n3 = float(input(\"Digite o terceiro número: \"))\n",
        "\n",
        "resultado_soma, resultado_media = calcular_soma_e_media(n1, n2, n3)\n",
        "\n",
        "print(f\"a soma é {resultado_soma:.2f}\")\n",
        "print(f\"a media é {resultado_media:.2f}\")"
      ],
      "metadata": {
        "colab": {
          "base_uri": "https://localhost:8080/"
        },
        "id": "YrBoAB7NTv7x",
        "outputId": "0e6f89be-1823-4d05-ea31-1903c0be7414"
      },
      "execution_count": 13,
      "outputs": [
        {
          "output_type": "stream",
          "name": "stdout",
          "text": [
            "Digite o primeiro número: 10\n",
            "Digite o segundo número: 8\n",
            "Digite o terceiro número: 2\n",
            "a soma é 20.00\n",
            "a media é 6.67\n"
          ]
        }
      ]
    },
    {
      "cell_type": "markdown",
      "source": [
        "#Exercícios Extras – Praticando Funções em Python\n"
      ],
      "metadata": {
        "id": "njyUynTKWeJu"
      }
    },
    {
      "cell_type": "markdown",
      "source": [
        "##1)Mensagem de Boas-vindas"
      ],
      "metadata": {
        "id": "6IJoHvB-YXlM"
      }
    },
    {
      "cell_type": "code",
      "source": [
        "def msg_boas_vindas():\n",
        "  'ola tudo bem'\n",
        "\n",
        "msg_boas_vindas"
      ],
      "metadata": {
        "colab": {
          "base_uri": "https://localhost:8080/",
          "height": 104
        },
        "id": "zrRaxcarWibE",
        "outputId": "d6159daf-b484-4b8a-ba41-950140bb9170"
      },
      "execution_count": 17,
      "outputs": [
        {
          "output_type": "execute_result",
          "data": {
            "text/plain": [
              "<function __main__.msg_boas_vindas()>"
            ],
            "text/html": [
              "<div style=\"max-width:800px; border: 1px solid var(--colab-border-color);\"><style>\n",
              "      pre.function-repr-contents {\n",
              "        overflow-x: auto;\n",
              "        padding: 8px 12px;\n",
              "        max-height: 500px;\n",
              "      }\n",
              "\n",
              "      pre.function-repr-contents.function-repr-contents-collapsed {\n",
              "        cursor: pointer;\n",
              "        max-height: 100px;\n",
              "      }\n",
              "    </style>\n",
              "    <pre style=\"white-space: initial; background:\n",
              "         var(--colab-secondary-surface-color); padding: 8px 12px;\n",
              "         border-bottom: 1px solid var(--colab-border-color);\"><b>msg_boas_vindas</b><br/>def msg_boas_vindas()</pre><pre class=\"function-repr-contents function-repr-contents-collapsed\" style=\"\"><a class=\"filepath\" style=\"display:none\" href=\"#\">/tmp/ipython-input-2446257246.py</a>ola tudo bem</pre></div>"
            ]
          },
          "metadata": {},
          "execution_count": 17
        }
      ]
    },
    {
      "cell_type": "markdown",
      "source": [
        "##2)Conversor de Temperatura"
      ],
      "metadata": {
        "id": "KHghXYHOYfYG"
      }
    },
    {
      "cell_type": "code",
      "source": [
        "def celsius_para_fahrenheit (Celsius):\n",
        "  F = Celsius * (9 / 5) + 32\n",
        "  return F\n",
        "c = float(input(\"Qual a temperatura no seu ambiente agora\"))\n",
        "fim = celsius_para_fahrenheit(c)\n",
        "print(fim)"
      ],
      "metadata": {
        "colab": {
          "base_uri": "https://localhost:8080/"
        },
        "id": "IFx5IAELYleJ",
        "outputId": "4918b16d-89a2-4f22-b352-65360715e00e"
      },
      "execution_count": 19,
      "outputs": [
        {
          "output_type": "stream",
          "name": "stdout",
          "text": [
            "Qual a temperatura no seu ambiente agora24\n",
            "75.2\n"
          ]
        }
      ]
    },
    {
      "cell_type": "markdown",
      "source": [
        "##3)Mensagem Personalizada"
      ],
      "metadata": {
        "id": "IyscjiKLa6H_"
      }
    },
    {
      "cell_type": "code",
      "source": [
        "   def boas_vindas_personalizada(nome):\n",
        "  print(f'Seja bem-vindo {nome} a minha função')\n",
        "\n",
        "n = str(input('Qual é seu nome?: '))\n",
        "mensagem = boas_vindas_personalizada(n)"
      ],
      "metadata": {
        "colab": {
          "base_uri": "https://localhost:8080/"
        },
        "id": "s0XpyqbfbFmf",
        "outputId": "871614f6-2a9c-4dfc-ad69-a6331ea8d951"
      },
      "execution_count": 20,
      "outputs": [
        {
          "output_type": "stream",
          "name": "stdout",
          "text": [
            "Qual é seu nome?: matheus\n",
            "Seja bem-vindo matheus a minha função\n"
          ]
        }
      ]
    },
    {
      "cell_type": "markdown",
      "source": [
        "##4)Quadrado e Cubo\n"
      ],
      "metadata": {
        "id": "r5GBDOEOfjNT"
      }
    },
    {
      "cell_type": "code",
      "source": [
        "def calcular_potencias(número):\n",
        "  n1 = número ** 2\n",
        "  n2 = número ** 3\n",
        "  tupla = (n1, n2)\n",
        "  return tupla\n",
        "\n",
        "n1 = float(input('Me diga um número e te mostrarei ele ao quadrado e ao cubo: '))\n",
        "num = calcular_potencias(n1)\n",
        "print( num)"
      ],
      "metadata": {
        "colab": {
          "base_uri": "https://localhost:8080/"
        },
        "id": "P1cwKuqGf2uR",
        "outputId": "b224787b-ffc1-4f2d-c5f7-d1762403b588"
      },
      "execution_count": 21,
      "outputs": [
        {
          "output_type": "stream",
          "name": "stdout",
          "text": [
            "Me diga um número e te mostrarei ele ao quadrado e ao cubo: 10\n",
            "(100.0, 1000.0)\n"
          ]
        }
      ]
    },
    {
      "cell_type": "markdown",
      "source": [
        "##5)Contagem Regressiva\n"
      ],
      "metadata": {
        "id": "Xh1CRe9EgBrV"
      }
    },
    {
      "cell_type": "code",
      "source": [
        "def contagem_regressiva(número):\n",
        " if número < 0:\n",
        "  print('O número tem quer positivo')\n",
        " else:\n",
        "  for i in range(número, 0, -1):\n",
        "    print(i)\n",
        "\n",
        "n2 = int(input('Me diga um número para eu te mostrar a contagem reressiva dele: '))\n",
        "contagem = contagem_regressiva(n2)\n",
        "print(contagem)\n"
      ],
      "metadata": {
        "colab": {
          "base_uri": "https://localhost:8080/"
        },
        "id": "99689mDAgT8t",
        "outputId": "ffdfed2b-924e-4fa2-a775-73125d988746"
      },
      "execution_count": 22,
      "outputs": [
        {
          "output_type": "stream",
          "name": "stdout",
          "text": [
            "Me diga um número para eu te mostrar a contagem reressiva dele: 20\n",
            "20\n",
            "19\n",
            "18\n",
            "17\n",
            "16\n",
            "15\n",
            "14\n",
            "13\n",
            "12\n",
            "11\n",
            "10\n",
            "9\n",
            "8\n",
            "7\n",
            "6\n",
            "5\n",
            "4\n",
            "3\n",
            "2\n",
            "1\n",
            "None\n"
          ]
        }
      ]
    },
    {
      "cell_type": "markdown",
      "source": [
        "##6)Cálculo de Desconto"
      ],
      "metadata": {
        "id": "G2qyw9eAgrvB"
      }
    },
    {
      "cell_type": "code",
      "source": [
        "def calcular_desconto(valor_original, percentual_desconto):\n",
        "  VF = valor_original * (1 - (percentual_desconto / 100))\n",
        "  return VF\n",
        "\n",
        "VO = float(input(\"Qual é o valor original?: \"))\n",
        "PD = float(input('Qual é a porcentagem de desconto? (sem o sinal de %): '))\n",
        "\n",
        "num = calcular_desconto(VO, PD)\n",
        "print(f'O valor final já com o desconto é de {num}')"
      ],
      "metadata": {
        "colab": {
          "base_uri": "https://localhost:8080/"
        },
        "id": "EMvyQSqrg03I",
        "outputId": "15378219-7bbf-42f3-b99c-26f6a752e3bd"
      },
      "execution_count": 23,
      "outputs": [
        {
          "output_type": "stream",
          "name": "stdout",
          "text": [
            "Qual é o valor original?: 30\n",
            "Qual é a porcentagem de desconto? (sem o sinal de %): 7\n",
            "O valor final já com o desconto é de 27.9\n"
          ]
        }
      ]
    },
    {
      "cell_type": "markdown",
      "source": [
        "##7)Maior e Menor"
      ],
      "metadata": {
        "id": "yVC7Kq2IhAMT"
      }
    },
    {
      "cell_type": "code",
      "source": [
        "def max_min(lista):\n",
        "    Max = max(lista)\n",
        "    Min = min(lista)\n",
        "    return Max, Min\n",
        "\n",
        "num_usu = input('Me fale uma lista de números separados por espaços: ')\n",
        "lista_usu = [float(num) for num in num_usu.split()]\n",
        "\n",
        "resultado = max_min(lista_usu)\n",
        "print(f'Os números máximo e mínimo são: {resultado}')\n"
      ],
      "metadata": {
        "colab": {
          "base_uri": "https://localhost:8080/"
        },
        "id": "Rxaaha2ChT9O",
        "outputId": "ddf52e04-cdc1-4d3c-8b98-824b8ab5d7ca"
      },
      "execution_count": 24,
      "outputs": [
        {
          "output_type": "stream",
          "name": "stdout",
          "text": [
            "Me fale uma lista de números separados por espaços: 1 2 3 \n",
            "Os números máximo e mínimo são: (3.0, 1.0)\n"
          ]
        }
      ]
    },
    {
      "cell_type": "markdown",
      "source": [
        "##8)Calculadora Simples\n",
        "\n"
      ],
      "metadata": {
        "id": "9u6SHvmzhyG8"
      }
    },
    {
      "cell_type": "code",
      "source": [
        "def calculadora(x, y, operador):\n",
        "  opera = 0\n",
        "  if operador == 'soma':\n",
        "    opera = x + y\n",
        "  elif operador == 'subtração':\n",
        "    opera = [(x - y), 'ou' , (y - x)]\n",
        "  elif operador == 'multiplicação':\n",
        "    opera = x * y\n",
        "  elif operador == 'divisão':\n",
        "    if (x != 0) and (y != 0):\n",
        "      opera = [(x / y), 'ou' , (y / x)]\n",
        "    else: print('Não se pode se dividir por 0')\n",
        "  else: print('Não existe esse operador nessa calculadora: ')\n",
        "  return opera\n",
        "\n",
        "operador = str(input('Você quer fazer qual conta?'))\n",
        "a = float(input('Qual é o primeiro valor?: '))\n",
        "b = float(input('Qual é o segundo valor?: '))\n",
        "\n",
        "conta = calculadora(a, b, operador)\n",
        "print(f'O resultado da sua conta é de {conta}')"
      ],
      "metadata": {
        "colab": {
          "base_uri": "https://localhost:8080/"
        },
        "id": "ajCsq78shpz9",
        "outputId": "c5bd2bcd-1740-4f31-e02f-ee334408eaa9"
      },
      "execution_count": 30,
      "outputs": [
        {
          "output_type": "stream",
          "name": "stdout",
          "text": [
            "Você quer fazer qual conta?divisão\n",
            "Qual é o primeiro valor?: 1\n",
            "Qual é o segundo valor?: 2\n",
            "O resultado da sua conta é de [0.5, 'ou', 2.0]\n"
          ]
        }
      ]
    },
    {
      "cell_type": "markdown",
      "source": [
        "##9)Mensagem Automática"
      ],
      "metadata": {
        "id": "z8wiRUmoizOy"
      }
    },
    {
      "cell_type": "code",
      "source": [
        "def enviar_email(destinatario, assunto, mensagem):\n",
        "  dest = destinatario\n",
        "  assunto = assunto\n",
        "  mensagem = mensagem\n",
        "  return dest, assunto, mensagem\n",
        "\n",
        "a = str(input('Para quem vc quer mandar esse email?: '))\n",
        "b = str(input('Qual é o assunto deste email'))\n",
        "c = str(input( 'Qual é a mensagem que você quer mandar?: '))\n",
        "\n",
        "email = enviar_email(a, b, c)\n",
        "if mensagem == \"\":\n",
        "    print(\"Este é um email automático.\")\n",
        "\n",
        "print(f'{email}')"
      ],
      "metadata": {
        "colab": {
          "base_uri": "https://localhost:8080/"
        },
        "id": "AXVyrEoWjLEg",
        "outputId": "b17576ad-dccc-448e-b46d-218fa0411e54"
      },
      "execution_count": 31,
      "outputs": [
        {
          "output_type": "stream",
          "name": "stdout",
          "text": [
            "Para quem vc quer mandar esse email?: matheusmolonetec@gmail.com\n",
            "Qual é o assunto deste emailola meu amigo\n",
            "Qual é a mensagem que você quer mandar?: ola meu amigo\n",
            "('matheusmolonetec@gmail.com', 'ola meu amigo', 'ola meu amigo')\n"
          ]
        }
      ]
    },
    {
      "cell_type": "markdown",
      "source": [
        "##10)Sistema de Notas\n"
      ],
      "metadata": {
        "id": "wgGMCUPtpuJe"
      }
    },
    {
      "cell_type": "code",
      "source": [
        "def avaliar_aluno(nota):\n",
        "    if nota >= 7:\n",
        "        return \"Aprovado\"\n",
        "    elif nota >= 5 and nota < 7:\n",
        "        return \"Recuperação\"\n",
        "    else:\n",
        "        return \"Reprovado\"\n",
        "\n",
        "nota_aluno = float(input(\"Digite a nota do aluno: \"))\n",
        "resultado = avaliar_aluno(nota_aluno)\n",
        "print(f\"A situação do aluno é: {resultado}\")\n"
      ],
      "metadata": {
        "colab": {
          "base_uri": "https://localhost:8080/"
        },
        "id": "vrbXJxPGp1Q2",
        "outputId": "ace040b6-835d-45e0-8005-e651324db0e9"
      },
      "execution_count": 32,
      "outputs": [
        {
          "output_type": "stream",
          "name": "stdout",
          "text": [
            "Digite a nota do aluno: 10\n",
            "A situação do aluno é: Aprovado\n"
          ]
        }
      ]
    }
  ]
}