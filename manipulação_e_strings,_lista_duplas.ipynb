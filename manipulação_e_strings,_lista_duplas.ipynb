{
  "nbformat": 4,
  "nbformat_minor": 0,
  "metadata": {
    "colab": {
      "provenance": [],
      "include_colab_link": true
    },
    "kernelspec": {
      "name": "python3",
      "display_name": "Python 3"
    },
    "language_info": {
      "name": "python"
    }
  },
  "cells": [
    {
      "cell_type": "markdown",
      "metadata": {
        "id": "view-in-github",
        "colab_type": "text"
      },
      "source": [
        "<a href=\"https://colab.research.google.com/github/matheusmolon2/PA_2025/blob/main/manipula%C3%A7%C3%A3o_e_strings%2C_lista_duplas.ipynb\" target=\"_parent\"><img src=\"https://colab.research.google.com/assets/colab-badge.svg\" alt=\"Open In Colab\"/></a>"
      ]
    },
    {
      "cell_type": "markdown",
      "source": [
        "# Manipulação de strings"
      ],
      "metadata": {
        "id": "i5D1dhn52FGr"
      }
    },
    {
      "cell_type": "code",
      "execution_count": null,
      "metadata": {
        "colab": {
          "base_uri": "https://localhost:8080/"
        },
        "id": "lYhozRAH13CM",
        "outputId": "c1aec656-0dd8-4a88-a41a-b45436e27cdb"
      },
      "outputs": [
        {
          "output_type": "stream",
          "name": "stdout",
          "text": [
            "11\n"
          ]
        }
      ],
      "source": [
        "# 1 - Use o método len para imprimir o comprimento da string.\n",
        "x = \"Hello World\"\n",
        "print(len(x))"
      ]
    },
    {
      "cell_type": "code",
      "source": [
        "# 2 - Obtenha o primeiro caractere da string txt.\n",
        "txt = \"Hello World\"\n",
        "x = txt[0]\n",
        "print(x)"
      ],
      "metadata": {
        "colab": {
          "base_uri": "https://localhost:8080/"
        },
        "id": "VMJmO3sd2Tuy",
        "outputId": "45743b15-30b1-41be-fb23-eee5c31de61a"
      },
      "execution_count": null,
      "outputs": [
        {
          "output_type": "stream",
          "name": "stdout",
          "text": [
            "H\n"
          ]
        }
      ]
    },
    {
      "cell_type": "code",
      "source": [
        "# 3 - Obtenha os caracteres do índice 2 ao índice 4 ( llo).\n",
        "txt = \"Hello World\"\n",
        "x = txt[2:5]\n",
        "print(x)"
      ],
      "metadata": {
        "colab": {
          "base_uri": "https://localhost:8080/"
        },
        "id": "-e8m501r2Xrf",
        "outputId": "87d21c7e-4a74-40d1-96d5-cf6ca0608ebb"
      },
      "execution_count": null,
      "outputs": [
        {
          "output_type": "stream",
          "name": "stdout",
          "text": [
            "llo\n"
          ]
        }
      ]
    },
    {
      "cell_type": "code",
      "source": [
        "# 4 - Converta o valor de txt para maiúsculas.\n",
        "txt = \"Hello World\"\n",
        "txt = txt.upper()\n",
        "print(txt)"
      ],
      "metadata": {
        "colab": {
          "base_uri": "https://localhost:8080/"
        },
        "id": "ocdES53q2aMv",
        "outputId": "af954d20-e0ee-492c-dae9-4fd723c7783c"
      },
      "execution_count": null,
      "outputs": [
        {
          "output_type": "stream",
          "name": "stdout",
          "text": [
            "HELLO WORLD\n"
          ]
        }
      ]
    },
    {
      "cell_type": "code",
      "source": [
        "# 5 - Conte quantas vezes aparece a palavra \"de\" na string abaixo\n",
        "txt = \"Eu gosto de viajar, tomar refri, de estudar programação, de estudar Pyhon\"\n",
        "txt = txt.count(\"de\")\n",
        "print(txt)"
      ],
      "metadata": {
        "colab": {
          "base_uri": "https://localhost:8080/"
        },
        "id": "-_SFRon_2aZQ",
        "outputId": "30cd7b8a-0576-4979-dd4e-16a721b5a741"
      },
      "execution_count": null,
      "outputs": [
        {
          "output_type": "stream",
          "name": "stdout",
          "text": [
            "3\n"
          ]
        }
      ]
    },
    {
      "cell_type": "code",
      "source": [
        "# 6 - Separe a frase abaixo toda vez que encontrar um vírgula\n",
        "txt = \"Eu gosto de vijar, tomar refri, de estudar programação, de estudar Pyhon\"\n",
        "txt = txt.split(',')\n",
        "print(txt)"
      ],
      "metadata": {
        "colab": {
          "base_uri": "https://localhost:8080/"
        },
        "id": "Ti0V3ZOU2ahi",
        "outputId": "cef01a07-9f22-4765-d311-3b3163787087"
      },
      "execution_count": null,
      "outputs": [
        {
          "output_type": "stream",
          "name": "stdout",
          "text": [
            "['Eu gosto de vijar', ' tomar refri', ' de estudar programação', ' de estudar Pyhon']\n"
          ]
        }
      ]
    },
    {
      "cell_type": "code",
      "source": [
        "#7 - Peça ao usuário uma frase e substitua todas as ocorrências de espaço por “#”.\n",
        "txt = str(input(\"Digite uma frase: \"))\n",
        "rp = txt.replace(' ', '#')\n",
        "print(rp)"
      ],
      "metadata": {
        "colab": {
          "base_uri": "https://localhost:8080/"
        },
        "id": "LGlsik_j2ap0",
        "outputId": "42b97423-c03d-4e5d-e579-5287d263deb0"
      },
      "execution_count": null,
      "outputs": [
        {
          "output_type": "stream",
          "name": "stdout",
          "text": [
            "Digite uma frase: celular novo]\n",
            "celular#novo]\n"
          ]
        }
      ]
    },
    {
      "cell_type": "code",
      "source": [
        "# 8 - Faça um programa que retorne True se duas strings lidas do teclado são palíndromas mútuas, ou seja, se uma é igual à outra quando lida de traz para frente ou False, se não forem.\n",
        "# Por exemplo: amor e roma\n",
        "str1 = input(\"Digite a primeira palavra: \")\n",
        "str2 = input(\"Digite a segunda palavra: \")\n",
        "\n",
        "\n",
        "resultado = str1 == str2[::-1]\n",
        "\n",
        "print(resultado)"
      ],
      "metadata": {
        "colab": {
          "base_uri": "https://localhost:8080/"
        },
        "id": "dYBQo6l32j2W",
        "outputId": "6aba2758-5b5c-469f-ad91-c0c8ab09013c"
      },
      "execution_count": null,
      "outputs": [
        {
          "output_type": "stream",
          "name": "stdout",
          "text": [
            "Digite a primeira primeira palavra: arara\n",
            "Digite a segunda palavra: arara\n",
            "True\n"
          ]
        }
      ]
    },
    {
      "cell_type": "code",
      "source": [
        "# 9- Faça um programa que leia o nome do usuário e mostre o nome de traz para frente, utilizando somente letras maiúsculas.\n",
        "txt = str(input('Digite seu nome: '))\n",
        "contra = txt[::-1]\n",
        "maius = contra.upper()\n",
        "print(maius)"
      ],
      "metadata": {
        "colab": {
          "base_uri": "https://localhost:8080/"
        },
        "id": "ozaIDuqu2j-e",
        "outputId": "1a0d1da9-9dfe-4733-ef53-8c5a8ddee27a"
      },
      "execution_count": null,
      "outputs": [
        {
          "output_type": "stream",
          "name": "stdout",
          "text": [
            "Digite seu nome: molon\n",
            "NOLOM\n"
          ]
        }
      ]
    },
    {
      "cell_type": "markdown",
      "source": [
        "#Listas_Tuplas e Dicionarios"
      ],
      "metadata": {
        "id": "Afp75vfh2sfq"
      }
    },
    {
      "cell_type": "code",
      "source": [
        "# 1 seu código aqui...\n",
        "cidades = [\"Santa Catarina\", \"São Paulo\", \"Florianopoles\", \"Curitiba\", \"Porto Alegre\"]\n",
        "cidades.append(\"Florianópolis\")\n",
        "cidades.pop(1)\n",
        "print(cidades)"
      ],
      "metadata": {
        "colab": {
          "base_uri": "https://localhost:8080/"
        },
        "id": "dZpf7ubV26HZ",
        "outputId": "04027dec-e6af-4f40-ab23-c1ed4d640556"
      },
      "execution_count": null,
      "outputs": [
        {
          "output_type": "stream",
          "name": "stdout",
          "text": [
            "['Santa Catarina', 'Florianopoles', 'Curitiba', 'Porto Alegre', 'Florianópolis']\n"
          ]
        }
      ]
    },
    {
      "cell_type": "code",
      "source": [
        "# 2  seu código aqui...\n",
        "cores = (\"vermelho\", \"azul\", \"verde\", \"amarelo\")\n",
        "novas_cores = cores + (\"preto\", \"branco\")\n",
        "print(novas_cores)"
      ],
      "metadata": {
        "colab": {
          "base_uri": "https://localhost:8080/"
        },
        "id": "NwfXtMjz3B5q",
        "outputId": "2718492b-a5d4-4b6b-acff-fd2c24e9c85b"
      },
      "execution_count": null,
      "outputs": [
        {
          "output_type": "stream",
          "name": "stdout",
          "text": [
            "('vermelho', 'azul', 'verde', 'amarelo', 'preto', 'branco')\n"
          ]
        }
      ]
    },
    {
      "cell_type": "code",
      "source": [
        "# 3 seu código aqui...\n",
        "aluno = {\"nome\": \"Marcos\", \"idade\": 50, \"curso\": \"Medicina\"}\n",
        "aluno[\"idade\"] = 50\n",
        "aluno[\"nota\"] = 9.5\n",
        "print(aluno)"
      ],
      "metadata": {
        "colab": {
          "base_uri": "https://localhost:8080/"
        },
        "id": "gqVyOn2R3CDl",
        "outputId": "53adfc59-b6f7-48e8-fb38-615306e1f846"
      },
      "execution_count": null,
      "outputs": [
        {
          "output_type": "stream",
          "name": "stdout",
          "text": [
            "{'nome': 'Marcos', 'idade': 50, 'curso': 'Medicina', 'nota': 9.5}\n"
          ]
        }
      ]
    },
    {
      "cell_type": "code",
      "source": [
        "# 4 seu código aqui...\n",
        "produtos = [\n",
        "    {\"nome\": \"Notebook\", \"preço\": 3500},\n",
        "    {\"nome\": \"Celular\", \"preço\": 2000},\n",
        "    {\"nome\": \"Fone de Ouvido\", \"preço\": 150}\n",
        "]\n",
        "\n",
        "produtos.append({\"nome\": \"Mouse\", \"preço\": 80})\n",
        "produtos[0][\"preço\"] = 3200\n",
        "print(produtos)"
      ],
      "metadata": {
        "colab": {
          "base_uri": "https://localhost:8080/"
        },
        "id": "wbEK1P8x3CNo",
        "outputId": "1a89901f-2a89-44bc-a143-9b27751c7b98"
      },
      "execution_count": null,
      "outputs": [
        {
          "output_type": "stream",
          "name": "stdout",
          "text": [
            "[{'nome': 'Notebook', 'preço': 3200}, {'nome': 'Celular', 'preço': 2000}, {'nome': 'Fone de Ouvido', 'preço': 150}, {'nome': 'Mouse', 'preço': 80}]\n"
          ]
        }
      ]
    },
    {
      "cell_type": "code",
      "source": [
        "# 5 seu código aqui...\n",
        "dados = [\n",
        "    (\"Ryan\", 20),\n",
        "    (\"Vine\", 45),\n",
        "    (\"Lucas\", 40),\n",
        "    (\"Molon\", 58)\n",
        "]"
      ],
      "metadata": {
        "id": "EuEGcAu13CXG"
      },
      "execution_count": null,
      "outputs": []
    },
    {
      "cell_type": "code",
      "source": [
        "maisvelho = 0\n",
        "nomevelho = \"\"\n",
        "\n",
        "if (dados[0][1])> maisvelho:\n",
        "  maisvelho = dados[0][1]\n",
        "  nomevelho = dados[0][0]\n",
        "\n",
        "if (dados[1][1])> maisvelho:\n",
        "  maisvelho = dados[1][1]\n",
        "  nomevelho = dados[1][0]\n",
        "\n",
        "if (dados[2][1])> maisvelho:\n",
        "  maisvelho = dados[2][1]\n",
        "  nomevelho = dados[2][0]\n",
        "\n",
        "if (dados[3][1])> maisvelho:\n",
        "  maisvelho = dados[3][1]\n",
        "  nomevelho = dados[3][0]\n",
        "media = (dados[0][1] + dados[1][1] + dados[2][1] + dados[3][1])/4\n",
        "\n",
        "print(f\"A pessoa mais velha é: {nomevelho} , e a media de idade é:{media}\")"
      ],
      "metadata": {
        "colab": {
          "base_uri": "https://localhost:8080/"
        },
        "id": "U8bFXhcO3dAr",
        "outputId": "e934a683-1e00-4ebd-e512-14a8def19b7a"
      },
      "execution_count": null,
      "outputs": [
        {
          "output_type": "stream",
          "name": "stdout",
          "text": [
            "A pessoa mais velha é: Molon , e a media de idade é:40.75\n"
          ]
        }
      ]
    }
  ]
}