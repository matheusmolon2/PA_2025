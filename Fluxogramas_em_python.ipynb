{
  "nbformat": 4,
  "nbformat_minor": 0,
  "metadata": {
    "colab": {
      "provenance": [],
      "authorship_tag": "ABX9TyPmQ9uyohd12NlpmO8R3E8L",
      "include_colab_link": true
    },
    "kernelspec": {
      "name": "python3",
      "display_name": "Python 3"
    },
    "language_info": {
      "name": "python"
    }
  },
  "cells": [
    {
      "cell_type": "markdown",
      "metadata": {
        "id": "view-in-github",
        "colab_type": "text"
      },
      "source": [
        "<a href=\"https://colab.research.google.com/github/matheusmolon2/PA_2025/blob/main/Fluxogramas_em_python.ipynb\" target=\"_parent\"><img src=\"https://colab.research.google.com/assets/colab-badge.svg\" alt=\"Open In Colab\"/></a>"
      ]
    },
    {
      "cell_type": "markdown",
      "source": [
        "#CALCULANDO MEDIA"
      ],
      "metadata": {
        "id": "UKvo8CwtNkia"
      }
    },
    {
      "cell_type": "markdown",
      "source": [
        "RECEBE NOTA DAS PROVAS"
      ],
      "metadata": {
        "id": "mTAwgPw6NySZ"
      }
    },
    {
      "cell_type": "code",
      "execution_count": 5,
      "metadata": {
        "colab": {
          "base_uri": "https://localhost:8080/"
        },
        "id": "zS5OH_SiNgZ4",
        "outputId": "89eec171-5d39-4473-c7d2-177d5d918824"
      },
      "outputs": [
        {
          "name": "stdout",
          "output_type": "stream",
          "text": [
            "digite o valor da primeira nota: 7\n",
            "digite o valor da segunda nota: 9\n"
          ]
        }
      ],
      "source": [
        "nota1 = float(input(\"digite o valor da primeira nota: \"))\n",
        "nota2 = float(input(\"digite o valor da segunda nota: \"))"
      ]
    },
    {
      "cell_type": "markdown",
      "source": [
        "calculo da media"
      ],
      "metadata": {
        "id": "1YjFDNsYOxd5"
      }
    },
    {
      "cell_type": "code",
      "source": [
        "media = (nota1 + nota2)/2"
      ],
      "metadata": {
        "id": "IgFESRfIO1yH"
      },
      "execution_count": 7,
      "outputs": []
    },
    {
      "cell_type": "markdown",
      "source": [
        "media"
      ],
      "metadata": {
        "id": "P1daH2VxPMi8"
      }
    },
    {
      "cell_type": "code",
      "source": [
        "print(f\"A media é: {media} \")"
      ],
      "metadata": {
        "colab": {
          "base_uri": "https://localhost:8080/"
        },
        "id": "FJysEEniQFgH",
        "outputId": "68ae601f-3b97-4316-a912-d52511dbc93a"
      },
      "execution_count": 8,
      "outputs": [
        {
          "output_type": "stream",
          "name": "stdout",
          "text": [
            "A media é: 8.0 \n"
          ]
        }
      ]
    },
    {
      "cell_type": "markdown",
      "source": [
        "#COTAÇÃO DO DOLAR"
      ],
      "metadata": {
        "id": "K1VGiy9JQKDk"
      }
    },
    {
      "cell_type": "code",
      "source": [
        " cotacao_dolar = float(input(\"digite o valor do dolar: \"\"$\"))\n",
        " valor_reais = float(input(\"digite o valor em reais: \"\"R$\" ))"
      ],
      "metadata": {
        "colab": {
          "base_uri": "https://localhost:8080/"
        },
        "id": "dVR_9TpEQPvF",
        "outputId": "0562df02-df89-46c3-fdf5-735f1a957e29"
      },
      "execution_count": 11,
      "outputs": [
        {
          "name": "stdout",
          "output_type": "stream",
          "text": [
            "digite o valor do dolar: $5.77\n",
            "digite o valor em reais: R$200\n"
          ]
        }
      ]
    },
    {
      "cell_type": "markdown",
      "source": [
        "calculo da cotação"
      ],
      "metadata": {
        "id": "A_qOENz9R-k1"
      }
    },
    {
      "cell_type": "code",
      "source": [
        "valor_dolar = valor_reais / cotacao_dolar"
      ],
      "metadata": {
        "id": "jS1VeLToSDyR"
      },
      "execution_count": 12,
      "outputs": []
    },
    {
      "cell_type": "markdown",
      "source": [
        "valor do dolar"
      ],
      "metadata": {
        "id": "pvaT7WqcSVKx"
      }
    },
    {
      "cell_type": "code",
      "source": [
        "print(f\"o valor em dolar é: {valor_dolar}\")"
      ],
      "metadata": {
        "colab": {
          "base_uri": "https://localhost:8080/"
        },
        "id": "28Cp7RdqSXsU",
        "outputId": "f6403d22-d891-4fb3-e9e8-218b83fed4c6"
      },
      "execution_count": 13,
      "outputs": [
        {
          "output_type": "stream",
          "name": "stdout",
          "text": [
            "o valor em dolar é: 34.662045060658585\n"
          ]
        }
      ]
    },
    {
      "cell_type": "markdown",
      "source": [
        "#CALCULO DE COMISSÃO"
      ],
      "metadata": {
        "id": "qvggnS5dStv4"
      }
    },
    {
      "cell_type": "code",
      "source": [
        "preco_unitario = float(input(\"digite o preco da roupa: \"))\n",
        "quantidade_vendida = float(input(\"digite a quantidade de roupa vendida: \"))"
      ],
      "metadata": {
        "colab": {
          "base_uri": "https://localhost:8080/"
        },
        "id": "ykEFJSXvS0R4",
        "outputId": "31563cba-7ec0-46a3-9e0e-d6a887e00fbb"
      },
      "execution_count": 15,
      "outputs": [
        {
          "name": "stdout",
          "output_type": "stream",
          "text": [
            "digite o preco da roupa: 89.90\n",
            "digite a quantidade de roupa vendida: 6\n"
          ]
        }
      ]
    },
    {
      "cell_type": "markdown",
      "source": [
        "calculo"
      ],
      "metadata": {
        "id": "UhYwuOolTv2S"
      }
    },
    {
      "cell_type": "code",
      "source": [
        "valor_total_vendas = preco_unitario * quantidade_vendida\n",
        "comissao = valor_total_vendas * 0.07"
      ],
      "metadata": {
        "id": "6Y7jTFiAT0Db"
      },
      "execution_count": 19,
      "outputs": []
    },
    {
      "cell_type": "markdown",
      "source": [
        "comissão"
      ],
      "metadata": {
        "id": "W7WvXAXeUgwd"
      }
    },
    {
      "cell_type": "code",
      "source": [
        " print(f\"valor total da venda: R${valor_total_vendas}\")\n",
        " print(f\"comissao do vendedor: R${comissao}\")"
      ],
      "metadata": {
        "colab": {
          "base_uri": "https://localhost:8080/"
        },
        "id": "Zt_t2oqAUmg6",
        "outputId": "f823572d-79c3-4eeb-f974-bcad5651e5e0"
      },
      "execution_count": 20,
      "outputs": [
        {
          "output_type": "stream",
          "name": "stdout",
          "text": [
            "valor total da venda: R$539.4000000000001\n",
            "comissao do vendedor: R$37.75800000000001\n"
          ]
        }
      ]
    },
    {
      "cell_type": "markdown",
      "source": [
        "#VALOR DO CARRO"
      ],
      "metadata": {
        "id": "m6pi1C4CVgKw"
      }
    },
    {
      "cell_type": "code",
      "source": [
        "valordocarro = float(input(\"digite o valor do carro: \"))"
      ],
      "metadata": {
        "colab": {
          "base_uri": "https://localhost:8080/"
        },
        "id": "w2nsg_txVpJm",
        "outputId": "a3066090-7c17-48b5-97f0-91877b87be1c"
      },
      "execution_count": 21,
      "outputs": [
        {
          "name": "stdout",
          "output_type": "stream",
          "text": [
            "digite o valor do carro: 40000\n"
          ]
        }
      ]
    },
    {
      "cell_type": "code",
      "source": [
        "imposto = (valordocarro*45/100)+ valordocarro"
      ],
      "metadata": {
        "id": "aAw7I4ocWFRv"
      },
      "execution_count": 22,
      "outputs": []
    },
    {
      "cell_type": "code",
      "source": [
        "distribuicao = (valordocarro*28/100)+ imposto"
      ],
      "metadata": {
        "id": "xxKL2CrDWVu7"
      },
      "execution_count": 24,
      "outputs": []
    },
    {
      "cell_type": "code",
      "source": [
        "print(f\"o valor do carro para o consumidor sera de: R${distribuicao}\")"
      ],
      "metadata": {
        "colab": {
          "base_uri": "https://localhost:8080/"
        },
        "id": "v0SSd-w1Ww0M",
        "outputId": "c2dd54fc-8789-459a-a3bb-1744537bf3a9"
      },
      "execution_count": 26,
      "outputs": [
        {
          "output_type": "stream",
          "name": "stdout",
          "text": [
            "o valor do carro para o consumidor sera de: R$69200.0\n"
          ]
        }
      ]
    },
    {
      "cell_type": "markdown",
      "source": [
        "#CONVERSAO EM SEGUNDOS"
      ],
      "metadata": {
        "id": "TaeJZdllXIhc"
      }
    },
    {
      "cell_type": "code",
      "source": [
        "hora = float(input(\"digite o valor da hora: \"))\n",
        "minutos = float(input(\"digite o valor do minuto: \"))"
      ],
      "metadata": {
        "colab": {
          "base_uri": "https://localhost:8080/"
        },
        "id": "aKHZMe4oXMvh",
        "outputId": "686fe7af-8000-46f6-fa39-bab1322ab8b2"
      },
      "execution_count": 27,
      "outputs": [
        {
          "name": "stdout",
          "output_type": "stream",
          "text": [
            "digite o valor da hora: 8\n",
            "digite o valor do minuto: 46\n"
          ]
        }
      ]
    },
    {
      "cell_type": "code",
      "source": [
        "divminutos = 46/60"
      ],
      "metadata": {
        "id": "PxJqGJcZXsr-"
      },
      "execution_count": 28,
      "outputs": []
    },
    {
      "cell_type": "code",
      "source": [
        "segundos = hora+divminutos"
      ],
      "metadata": {
        "id": "fttMdt3zXxbn"
      },
      "execution_count": 29,
      "outputs": []
    },
    {
      "cell_type": "code",
      "source": [
        "print(f\"A conversao de horas e minutos para segundos ficou: {segundos}\")"
      ],
      "metadata": {
        "colab": {
          "base_uri": "https://localhost:8080/"
        },
        "id": "zNnFsi_HX67e",
        "outputId": "2aa6ed81-c32f-4aa2-d7e0-c8c1c3baff15"
      },
      "execution_count": 30,
      "outputs": [
        {
          "output_type": "stream",
          "name": "stdout",
          "text": [
            "A conversao de horas e minutos para segundos ficou: 8.766666666666667\n"
          ]
        }
      ]
    },
    {
      "cell_type": "markdown",
      "source": [
        "#hora extra"
      ],
      "metadata": {
        "id": "bOB-M5CGYYHO"
      }
    },
    {
      "cell_type": "code",
      "source": [
        "hora = float(input(\"digite quantas horas sao: \"))\n",
        "minutos = float(input(\"digite quantos minutos sao: \"))\n",
        "valorhora = float(input(\"digite quanto ganha por hora: \"))"
      ],
      "metadata": {
        "colab": {
          "base_uri": "https://localhost:8080/"
        },
        "id": "JU9mlK2lYeDX",
        "outputId": "ab056b48-2a8a-4ed4-dbec-baea79090e97"
      },
      "execution_count": 31,
      "outputs": [
        {
          "name": "stdout",
          "output_type": "stream",
          "text": [
            "digite quantas horas sao: 23\n",
            "digite quantos minutos sao: 31\n",
            "digite quanto ganha por hora: 30\n"
          ]
        }
      ]
    },
    {
      "cell_type": "code",
      "source": [
        "convertido = hora + (31/60)"
      ],
      "metadata": {
        "id": "WIqRfLvvZSq1"
      },
      "execution_count": 32,
      "outputs": []
    },
    {
      "cell_type": "code",
      "source": [
        "salario = (valorhora*70/100) + convertido"
      ],
      "metadata": {
        "id": "FNibN-pNZazx"
      },
      "execution_count": 33,
      "outputs": []
    },
    {
      "cell_type": "code",
      "source": [
        "print(f\"ele ira ganhar hora extra: R${salario}\")"
      ],
      "metadata": {
        "colab": {
          "base_uri": "https://localhost:8080/"
        },
        "id": "aVQzoldCZ1zn",
        "outputId": "f9735a09-432e-485e-f3af-23b71cdfdb2b"
      },
      "execution_count": 34,
      "outputs": [
        {
          "output_type": "stream",
          "name": "stdout",
          "text": [
            "ele ira ganhar hora extra: R$44.516666666666666\n"
          ]
        }
      ]
    }
  ]
}