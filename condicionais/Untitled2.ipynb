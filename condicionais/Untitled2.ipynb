{
  "nbformat": 4,
  "nbformat_minor": 0,
  "metadata": {
    "colab": {
      "provenance": [],
      "authorship_tag": "ABX9TyOwXoerKBuzUUpU/6hH5dYI",
      "include_colab_link": true
    },
    "kernelspec": {
      "name": "python3",
      "display_name": "Python 3"
    },
    "language_info": {
      "name": "python"
    }
  },
  "cells": [
    {
      "cell_type": "markdown",
      "metadata": {
        "id": "view-in-github",
        "colab_type": "text"
      },
      "source": [
        "<a href=\"https://colab.research.google.com/github/matheusmolon2/PA_2025/blob/main/condicionais/Untitled2.ipynb\" target=\"_parent\"><img src=\"https://colab.research.google.com/assets/colab-badge.svg\" alt=\"Open In Colab\"/></a>"
      ]
    },
    {
      "cell_type": "markdown",
      "source": [
        "##Faça um programa que solicite ao usuário três valores (lados de um triangulo), verifique se é um triangulo e informe se ele é isóceles, equilatero ou escaleno."
      ],
      "metadata": {
        "id": "8vKXaXieS3f-"
      }
    },
    {
      "cell_type": "code",
      "execution_count": null,
      "metadata": {
        "colab": {
          "base_uri": "https://localhost:8080/"
        },
        "id": "bMJR_XdtS11U",
        "outputId": "1ea68dd5-2ce3-475b-bb02-3781b1e43e74"
      },
      "outputs": [
        {
          "output_type": "stream",
          "name": "stdout",
          "text": [
            "digite o valor do lado 1 do triangulo:3\n",
            "digite o valor do lado 2 do triangulo:3\n",
            "digite o valor do lado 3 do triangulo:3\n",
            "triangulo é equilatero\n"
          ]
        }
      ],
      "source": [
        "lado1=float(input(\"digite o valor do lado 1 do triangulo:\"))\n",
        "lado2=float(input(\"digite o valor do lado 2 do triangulo:\"))\n",
        "lado3=float(input(\"digite o valor do lado 3 do triangulo:\"))\n",
        "\n",
        "if ((lado1 + lado2 > lado3) and (lado1 + lado3 > lado2) and (lado3 + lado2 > lado3)):\n",
        "  if (lado1==lado2==lado3):\n",
        "   print(\"triangulo é equilatero\")\n",
        "  elif ((lado1 != lado2 and lado1!= lado3)):\n",
        "    print(\"triangulo é escaleno\")\n",
        "  else:\n",
        "      print(\"triangulo é isoceles\")\n",
        "else:\n",
        "        print(\"ele n é um trtiangulo\")\n"
      ]
    },
    {
      "cell_type": "markdown",
      "source": [
        "##Peça para o usuário digitar um valor informe se ele é par ou impar"
      ],
      "metadata": {
        "id": "yxrVkXhIelta"
      }
    },
    {
      "cell_type": "code",
      "source": [
        "numero = int(input(\"digite um numero: \"))\n",
        "resto = numero%2\n",
        "\n",
        "if (resto == 1):\n",
        "  print(\"é impar\")\n",
        "else:\n",
        "    print(\"é par\")"
      ],
      "metadata": {
        "colab": {
          "base_uri": "https://localhost:8080/"
        },
        "id": "L17vzXVpfO-i",
        "outputId": "d379c1fc-99c1-4cf6-8dca-4917dbf65345"
      },
      "execution_count": null,
      "outputs": [
        {
          "output_type": "stream",
          "name": "stdout",
          "text": [
            "digite um numero: 2\n",
            "é par\n"
          ]
        }
      ]
    },
    {
      "cell_type": "markdown",
      "source": [
        "##Faça um programa que solicite peso e altura, informe seu IMC. Ao final informe se ele está, abaixo do peso,peso ideal ou acima do peso. fórmula do IMC: (peso/altura^2), siga a tabela abaixo\n"
      ],
      "metadata": {
        "id": "Gcph1HgAgX_n"
      }
    },
    {
      "cell_type": "code",
      "source": [
        "peso = float(input(\"digite o valor do peso: \"))\n",
        "altura = float(input(\"digite sua altura: \"))\n",
        "imc = (peso/altura**2)\n",
        "\n",
        "if imc<18.5:\n",
        "   print(\"abaixo\")\n",
        "\n",
        "elif  imc>=18.5 and imc<24.9:\n",
        "  print(\"normal\")\n",
        "elif imc>=25 and imc<29.9:\n",
        "  print(\"sobrepeso \")\n",
        "elif imc>=30 and imc<34.9:\n",
        "  print(\"obesidade1 \")\n",
        "elif  imc>=35 and imc<39.9:\n",
        "  print(\"obesidade2 \")\n",
        "elif imc>40:\n",
        "  print(\"obesidade3\")\n"
      ],
      "metadata": {
        "colab": {
          "base_uri": "https://localhost:8080/"
        },
        "id": "Yp018q70gwAK",
        "outputId": "df22c030-1484-4388-9841-3deddd04a056"
      },
      "execution_count": null,
      "outputs": [
        {
          "output_type": "stream",
          "name": "stdout",
          "text": [
            "digite o valor do peso: 1.70\n",
            "digite sua altura: 90\n",
            "abaixo\n"
          ]
        }
      ]
    },
    {
      "cell_type": "markdown",
      "source": [
        "##5. Exercício – Simulador de Saque e Depósito com Limite\n",
        "\n",
        "Sequência do exercício anterior\n",
        "\n",
        "Deverá ter os valores fixos de\n",
        "\n",
        "Exemplo:\n",
        "\n",
        "limite = 3000\n",
        "\n",
        "saldo = - 50.00\n",
        "\n",
        "Se o login for bem-sucedido, o programa deve exibir as opções de escolha para o usuário de saque, depósito ou ver saldo, e o usuário poderá escolher qual operação deseja realizar.\n",
        "\n",
        "Exemplo:\n",
        "\n",
        "Digite 1 para sacar\n",
        "\n",
        "Digite 2 para depositar\n",
        "\n",
        "Digite 3 para ver o saldo\n",
        "\n",
        "Porém ao final de cada operação de saque ou depósito, mostre como ficou o saldo do cliente no banco. Sempre mostranto saldo e o restante do limite do banco.\n",
        "\n",
        "Caso o usuário escolha sacar:\n",
        "\n",
        "Solicitar o valor que deseja sacar.\n",
        "\n",
        "Verificar se o saque pode ser realizado, considerando o saldo mais o limite disponível.\n",
        "\n",
        "Informar se o saque foi autorizado ou negado.\n",
        "\n",
        "Se autorizado, informar o saldo final e se ele é positivo ou negativo.\n",
        "\n",
        "Não esqueça de atualizar o saldo\n",
        "\n",
        "Informar qual o valor negativo que ele está caso esteja usando o limite do Banco.\n",
        "\n",
        "Caso o usuário escolha depositar:\n",
        "\n",
        "Solicitar o valor do depósito.\n",
        "\n",
        "Atualizar o saldo e informar o novo saldo final.\n",
        "\n",
        "Dica: Lembre-se de que o limite funciona como um \"empréstimo automático\", permitindo que o cliente saque além do saldo disponível."
      ],
      "metadata": {
        "id": "IwoZ8kVylmqM"
      }
    },
    {
      "cell_type": "code",
      "source": [
        "UsuarioCerto = \"Cliente\"\n",
        "SenhaCerta = 1234\n",
        "Limite = -500.00\n",
        "Saldo = 1000.00\n",
        "\n",
        "# Usuário e senha\n",
        "Usuario = input(\"Insira seu usuário?\")\n",
        "\n",
        "if (Usuario==UsuarioCerto):\n",
        "  Senha = int(input(\"Insira a Senha\"))\n",
        "  if (Senha==SenhaCerta):\n",
        "    print(\"Usuário Logado\")\n",
        "  else:\n",
        "      print(\"Senha Incorreta\")\n",
        "else:\n",
        "  print(\"Usuário Inválido\")\n",
        "\n",
        "if (Usuario==UsuarioCerto and Senha==SenhaCerta):\n",
        "  Acao = int(input(\"Digite 1 para sacar, 2 pra depositar e 3 pra consultar seu saldo\"))\n",
        "\n",
        "  if (Acao == 1):\n",
        "    Saque = float(input(\"Quanto gostaria de Sacar?\"))\n",
        "    Novo_Saldo = (Saldo - Saque)\n",
        "\n",
        "    if (Novo_Saldo > Limite):\n",
        "      print(f\"Seu saldo agora é: {Novo_Saldo}\")\n",
        "\n",
        "    if (Novo_Saldo < Limite):\n",
        "      print(\"Você não pode dever mais que: R$\", Limite  if (Acao == 2):\n",
        "    Deposito = float(input(\"Quanto quer depositar?\"))\n",
        "    Novo_Saldo = Deposito + Saldo\n",
        "    print(f\"Se saldo agora é {Novo_Saldo}\")\n",
        "\n",
        "  if (Acao == 3):\n",
        "    print(f\"Seu saldo é: R${Saldo}\")\n",
        "\n",
        "\n",
        "  if (Acao > 3 or Acao < 1):\n",
        "    print(\"Você digitou um número inválido\")"
      ],
      "metadata": {
        "id": "dBoN_G2KftIt"
      },
      "execution_count": null,
      "outputs": []
    },
    {
      "cell_type": "code",
      "source": [
        "Altura = float(input(\"Qual sua altura?\"))\n",
        "Idade = int(input(\"Qual sua idade?\"))\n",
        "\n",
        "if (Altura < 1.75):\n",
        "  print(\"Participação negada\")\n",
        "if (Idade < 18):\n",
        "  print(\"Participação negada\")\n",
        "if (Altura >= 1.75 and Idade >= 18):\n",
        "  print (\"Participação aprovada!\")"
      ],
      "metadata": {
        "id": "VitUzJtIgHhG"
      },
      "execution_count": null,
      "outputs": []
    },
    {
      "cell_type": "markdown",
      "source": [
        "##4. Caixa Eletrônico com Login e Operações Bancárias\n",
        "\n",
        "Crie um programa que simule um caixa eletrônico. O programa deve:\n",
        "\n",
        "Solicitar ao usuário nome de usuário e senha para acessar a conta bancária (use valores fictícios para usuário e senha, por exemplo, \"cliente\" e \"1234\").\n",
        "\n",
        "Se o usuário ou a senha estiver incorreto, o programa deve bloquear o acesso e exibir a mensagem: \"Usuário ou senha incorretos. Tente novamente.\""
      ],
      "metadata": {
        "id": "CHnDCi5MQJG5"
      }
    },
    {
      "cell_type": "markdown",
      "source": [],
      "metadata": {
        "id": "UP3XzEUOfs-B"
      }
    },
    {
      "cell_type": "code",
      "source": [
        "# Usuário e senha\n",
        "UsuarioCerto = cliente\n",
        "SenhaCerta = 1234\n",
        "Usuario = input(\"Insira seu usuário?\")\n",
        "\n",
        "if (Usuario==UsuarioCerto):\n",
        "  Senha = int(input(\"Insira a Senha\"))\n",
        "  if (Senha==SenhaCerta):\n",
        "    print(\"Usuário Logado\")\n",
        "  else:\n",
        "      print(\"Senha Incorreta\")\n",
        "else:\n",
        "  print(\"Usuário Inválido\")"
      ],
      "metadata": {
        "id": "Y0e3-3nNP-ap"
      },
      "execution_count": null,
      "outputs": []
    }
  ]
}