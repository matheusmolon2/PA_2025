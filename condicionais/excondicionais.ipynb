{
  "nbformat": 4,
  "nbformat_minor": 0,
  "metadata": {
    "colab": {
      "provenance": [],
      "authorship_tag": "ABX9TyOQQ+QuTpa3kpIti+mM2qXe",
      "include_colab_link": true
    },
    "kernelspec": {
      "name": "python3",
      "display_name": "Python 3"
    },
    "language_info": {
      "name": "python"
    }
  },
  "cells": [
    {
      "cell_type": "markdown",
      "metadata": {
        "id": "view-in-github",
        "colab_type": "text"
      },
      "source": [
        "<a href=\"https://colab.research.google.com/github/matheusmolon2/PA_2025/blob/main/condicionais/excondicionais.ipynb\" target=\"_parent\"><img src=\"https://colab.research.google.com/assets/colab-badge.svg\" alt=\"Open In Colab\"/></a>"
      ]
    },
    {
      "cell_type": "markdown",
      "source": [
        "##Faça um programa que solicite ao usuário três valores (lados de um triangulo), verifique se é um triangulo e informe se ele é isóceles, equilatero ou escaleno."
      ],
      "metadata": {
        "id": "8vKXaXieS3f-"
      }
    },
    {
      "cell_type": "code",
      "execution_count": null,
      "metadata": {
        "colab": {
          "base_uri": "https://localhost:8080/"
        },
        "id": "bMJR_XdtS11U",
        "outputId": "1ea68dd5-2ce3-475b-bb02-3781b1e43e74"
      },
      "outputs": [
        {
          "output_type": "stream",
          "name": "stdout",
          "text": [
            "digite o valor do lado 1 do triangulo:3\n",
            "digite o valor do lado 2 do triangulo:3\n",
            "digite o valor do lado 3 do triangulo:3\n",
            "triangulo é equilatero\n"
          ]
        }
      ],
      "source": [
        "lado1=float(input(\"digite o valor do lado 1 do triangulo:\"))\n",
        "lado2=float(input(\"digite o valor do lado 2 do triangulo:\"))\n",
        "lado3=float(input(\"digite o valor do lado 3 do triangulo:\"))\n",
        "\n",
        "if ((lado1 + lado2 > lado3) and (lado1 + lado3 > lado2) and (lado3 + lado2 > lado3)):\n",
        "  if (lado1==lado2==lado3):\n",
        "   print(\"triangulo é equilatero\")\n",
        "  elif ((lado1 != lado2 and lado1!= lado3)):\n",
        "    print(\"triangulo é escaleno\")\n",
        "  else:\n",
        "      print(\"triangulo é isoceles\")\n",
        "else:\n",
        "        print(\"ele n é um trtiangulo\")\n"
      ]
    },
    {
      "cell_type": "markdown",
      "source": [
        "##Peça para o usuário digitar um valor informe se ele é par ou impar"
      ],
      "metadata": {
        "id": "yxrVkXhIelta"
      }
    },
    {
      "cell_type": "code",
      "source": [
        "numero = int(input(\"digite um numero: \"))\n",
        "resto = numero%2\n",
        "\n",
        "if (resto == 1):\n",
        "  print(\"é impar\")\n",
        "else:\n",
        "    print(\"é par\")"
      ],
      "metadata": {
        "colab": {
          "base_uri": "https://localhost:8080/"
        },
        "id": "L17vzXVpfO-i",
        "outputId": "d379c1fc-99c1-4cf6-8dca-4917dbf65345"
      },
      "execution_count": null,
      "outputs": [
        {
          "output_type": "stream",
          "name": "stdout",
          "text": [
            "digite um numero: 2\n",
            "é par\n"
          ]
        }
      ]
    },
    {
      "cell_type": "markdown",
      "source": [
        "##Faça um programa que solicite peso e altura, informe seu IMC. Ao final informe se ele está, abaixo do peso,peso ideal ou acima do peso. fórmula do IMC: (peso/altura^2), siga a tabela abaixo\n"
      ],
      "metadata": {
        "id": "Gcph1HgAgX_n"
      }
    },
    {
      "cell_type": "code",
      "source": [
        "peso = float(input(\"digite o valor do peso: \"))\n",
        "altura = float(input(\"digite sua altura: \"))\n",
        "imc = (peso/altura**2)\n",
        "\n",
        "if imc<18.5:\n",
        "   print(\"abaixo\")\n",
        "\n",
        "elif  imc>=18.5 and imc<24.9:\n",
        "  print(\"normal\")\n",
        "elif imc>=25 and imc<29.9:\n",
        "  print(\"sobrepeso \")\n",
        "elif imc>=30 and imc<34.9:\n",
        "  print(\"obesidade1 \")\n",
        "elif  imc>=35 and imc<39.9:\n",
        "  print(\"obesidade2 \")\n",
        "elif imc>40:\n",
        "  print(\"obesidade3\")\n"
      ],
      "metadata": {
        "colab": {
          "base_uri": "https://localhost:8080/"
        },
        "id": "Yp018q70gwAK",
        "outputId": "df22c030-1484-4388-9841-3deddd04a056"
      },
      "execution_count": null,
      "outputs": [
        {
          "output_type": "stream",
          "name": "stdout",
          "text": [
            "digite o valor do peso: 1.70\n",
            "digite sua altura: 90\n",
            "abaixo\n"
          ]
        }
      ]
    },
    {
      "cell_type": "markdown",
      "source": [
        "#4. Caixa Eletrônico com Login e Operações Bancárias\n",
        "##\n",
        "Crie um programa que simule um caixa eletrônico. O programa deve:\n",
        "\n",
        "Solicitar ao usuário nome de usuário e senha para acessar a conta bancária (use valores fictícios para usuário e senha, por exemplo, \"cliente\" e \"1234\").\n",
        "\n",
        "Se o usuário ou a senha estiver incorreto, o programa deve bloquear o acesso e exibir a mensagem: \"Usuário ou senha incorretos. Tente novamente.\""
      ],
      "metadata": {
        "id": "zbR7u6OVoEHB"
      }
    },
    {
      "cell_type": "code",
      "source": [
        "# Usuário e senha\n",
        "UsuarioCerto = cliente\n",
        "SenhaCerta = 1234\n",
        "Usuario = input(\"Insira seu usuário?\")\n",
        "\n",
        "if (Usuario==UsuarioCerto):\n",
        "  Senha = int(input(\"Insira a Senha\"))\n",
        "  if (Senha==SenhaCerta):\n",
        "    print(\"Usuário Logado\")\n",
        "  else:\n",
        "      print(\"Senha Incorreta\")\n",
        "else:\n",
        "  print(\"Usuário Inválido\")"
      ],
      "metadata": {
        "id": "ryKV6vijoIz7"
      },
      "execution_count": null,
      "outputs": []
    },
    {
      "cell_type": "markdown",
      "source": [
        "##5. Exercício – Simulador de Saque e Depósito com Limite\n",
        "\n",
        "Sequência do exercício anterior\n",
        "\n",
        "Deverá ter os valores fixos de\n",
        "\n",
        "Exemplo:\n",
        "\n",
        "limite = 3000\n",
        "\n",
        "saldo = - 50.00\n",
        "\n",
        "Se o login for bem-sucedido, o programa deve exibir as opções de escolha para o usuário de saque, depósito ou ver saldo, e o usuário poderá escolher qual operação deseja realizar.\n",
        "\n",
        "Exemplo:\n",
        "\n",
        "Digite 1 para sacar\n",
        "\n",
        "Digite 2 para depositar\n",
        "\n",
        "Digite 3 para ver o saldo\n",
        "\n",
        "Porém ao final de cada operação de saque ou depósito, mostre como ficou o saldo do cliente no banco. Sempre mostranto saldo e o restante do limite do banco.\n",
        "\n",
        "Caso o usuário escolha sacar:\n",
        "\n",
        "Solicitar o valor que deseja sacar.\n",
        "\n",
        "Verificar se o saque pode ser realizado, considerando o saldo mais o limite disponível.\n",
        "\n",
        "Informar se o saque foi autorizado ou negado.\n",
        "\n",
        "Se autorizado, informar o saldo final e se ele é positivo ou negativo.\n",
        "\n",
        "Não esqueça de atualizar o saldo\n",
        "\n",
        "Informar qual o valor negativo que ele está caso esteja usando o limite do Banco.\n",
        "\n",
        "Caso o usuário escolha depositar:\n",
        "\n",
        "Solicitar o valor do depósito.\n",
        "\n",
        "Atualizar o saldo e informar o novo saldo final.\n",
        "\n",
        "Dica: Lembre-se de que o limite funciona como um \"empréstimo automático\", permitindo que o cliente saque além do saldo disponível."
      ],
      "metadata": {
        "id": "IwoZ8kVylmqM"
      }
    },
    {
      "cell_type": "code",
      "source": [
        "UsuarioCerto = \"Cliente\"\n",
        "SenhaCerta = 1234\n",
        "Limite = -500.00\n",
        "Saldo = 1000.00\n",
        "\n",
        "# Usuário e senha\n",
        "Usuario = input(\"Insira seu usuário?\")\n",
        "\n",
        "if (Usuario==UsuarioCerto):\n",
        "  Senha = int(input(\"Insira a Senha\"))\n",
        "  if (Senha==SenhaCerta):\n",
        "    print(\"Usuário Logado\")\n",
        "  else:\n",
        "      print(\"Senha Incorreta\")\n",
        "else:\n",
        "  print(\"Usuário Inválido\")\n",
        "\n",
        "if (Usuario==UsuarioCerto and Senha==SenhaCerta):\n",
        "  Acao = int(input(\"Digite 1 para sacar, 2 pra depositar e 3 pra consultar seu saldo\"))\n",
        "\n",
        "  if (Acao == 1):\n",
        "    Saque = float(input(\"Quanto gostaria de Sacar?\"))\n",
        "    Novo_Saldo = (Saldo - Saque)\n",
        "\n",
        "    if (Novo_Saldo > Limite):\n",
        "      print(f\"Seu saldo agora é: {Novo_Saldo}\")\n",
        "\n",
        "    if (Novo_Saldo < Limite):\n",
        "      print(\"Você não pode dever mais que: R$\", Limite  if (Acao == 2):\n",
        "    Deposito = float(input(\"Quanto quer depositar?\"))\n",
        "    Novo_Saldo = Deposito + Saldo\n",
        "    print(f\"Se saldo agora é {Novo_Saldo}\")\n",
        "\n",
        "  if (Acao == 3):\n",
        "    print(f\"Seu saldo é: R${Saldo}\")\n",
        "\n",
        "\n",
        "  if (Acao > 3 or Acao < 1):\n",
        "    print(\"Você digitou um número inválido\")"
      ],
      "metadata": {
        "id": "dBoN_G2KftIt"
      },
      "execution_count": null,
      "outputs": []
    },
    {
      "cell_type": "markdown",
      "source": [
        "#6 competição de volei"
      ],
      "metadata": {
        "id": "RTLYsTrtoU36"
      }
    },
    {
      "cell_type": "code",
      "source": [
        "altura = float(input(\"Digite a sua altura: \"))\n",
        "idade = float(input(\"Digite a sua idade: \"))\n",
        "\n",
        "if ((altura >= 1.75) and (idade >= 18)):\n",
        "  print(\"Você pode competir no capmpeonato de volei!\")\n",
        "else:\n",
        "  print(\"VocÊ não pode competir no capeonato de volei\")"
      ],
      "metadata": {
        "id": "0RfWBXbCoZ78"
      },
      "execution_count": null,
      "outputs": []
    },
    {
      "cell_type": "markdown",
      "source": [
        "#7 Categoria de boxe por peso"
      ],
      "metadata": {
        "id": "X1J7hLB_oc95"
      }
    },
    {
      "cell_type": "markdown",
      "source": [
        "peso = float(input(\"Digite seu peso em kg: \"))\n",
        "\n",
        "if peso < 52.2:\n",
        "    categoria = \"Peso Mosca\"\n",
        "elif peso <= 56.7:\n",
        "    categoria = \"Peso Galo\"\n",
        "elif peso <= 61.2:\n",
        "    categoria = \"Peso Pena\"\n",
        "elif peso <= 66.6:\n",
        "    categoria = \"Peso Leve\"\n",
        "elif peso <= 72.6:\n",
        "    categoria = \"Peso Meio-Médio\"\n",
        "elif peso <= 79.3:\n",
        "    categoria = \"Peso Médio\"\n",
        "elif peso <= 90.7:\n",
        "    categoria = \"Peso Meio-Pesado\"\n",
        "else:\n",
        "    categoria = \"Peso Pesado\"\n",
        "\n",
        "print(f\"Categoria: \", {categoria})"
      ],
      "metadata": {
        "id": "JoDaISUOohOp"
      }
    },
    {
      "cell_type": "code",
      "source": [
        "peso = float(input(\"Digite seu peso em kg: \"))\n",
        "\n",
        "if peso < 52.2:\n",
        "    categoria = \"Peso Mosca\"\n",
        "elif peso <= 56.7:\n",
        "    categoria = \"Peso Galo\"\n",
        "elif peso <= 61.2:\n",
        "    categoria = \"Peso Pena\"\n",
        "elif peso <= 66.6:\n",
        "    categoria = \"Peso Leve\"\n",
        "elif peso <= 72.6:\n",
        "    categoria = \"Peso Meio-Médio\"\n",
        "elif peso <= 79.3:\n",
        "    categoria = \"Peso Médio\"\n",
        "elif peso <= 90.7:\n",
        "    categoria = \"Peso Meio-Pesado\"\n",
        "else:\n",
        "    categoria = \"Peso Pesado\"\n",
        "\n",
        "print(f\"Categoria: \", {categoria})"
      ],
      "metadata": {
        "id": "XblDriK0oot1"
      },
      "execution_count": null,
      "outputs": []
    },
    {
      "cell_type": "markdown",
      "source": [
        "#8 Calculo de imposto de renda"
      ],
      "metadata": {
        "id": "DmhUkQJ6okLe"
      }
    },
    {
      "cell_type": "code",
      "source": [
        "salario = float(input(\"Digite seu salário: \"))\n",
        "\n",
        "if salario <= 1903.98:\n",
        "    imposto = 0\n",
        "elif salario <= 2826.65:\n",
        "    imposto = salario * 0.075\n",
        "elif salario <= 3751.05:\n",
        "    imposto = salario * 0.15\n",
        "elif salario <= 4664.68:\n",
        "    imposto = salario * 0.225\n",
        "else:\n",
        "    imposto = salario * 0.275\n",
        "\n",
        "print(f\"Imposto de Renda a pagar: R$\", {imposto})"
      ],
      "metadata": {
        "id": "WMO0RDaMonnZ"
      },
      "execution_count": null,
      "outputs": []
    },
    {
      "cell_type": "markdown",
      "source": [
        "#9 Aumento salarial"
      ],
      "metadata": {
        "id": "v0L1uLofo4OI"
      }
    },
    {
      "cell_type": "code",
      "source": [
        "salario = float(input(\"Digite seu salário atual: \"))\n",
        "\n",
        "if salario <= 1500:\n",
        "    aumento = salario * 0.20\n",
        "elif salario <= 3000:\n",
        "    aumento = salario * 0.15\n",
        "else:\n",
        "    aumento = salario * 0.10\n",
        "\n",
        "novo_salario = salario + aumento\n",
        "\n",
        "print(f\"Aumento: R$\", {aumento})\n",
        "print(f\"Novo salário: R$\", {novo_salario})"
      ],
      "metadata": {
        "id": "bcRozvIWo71d"
      },
      "execution_count": null,
      "outputs": []
    },
    {
      "cell_type": "markdown",
      "source": [
        "#10 Simulador de frete inteligente"
      ],
      "metadata": {
        "id": "G9akY5l-o-Rc"
      }
    },
    {
      "cell_type": "code",
      "source": [
        "peso = float(input(\"Digite o peso do pacote (em kg): \"))\n",
        "distancia = float(input(\"Digite a distância até o destino (em km): \"))\n",
        "\n",
        "if peso <= 2:\n",
        "    preco_por_100km = 5\n",
        "elif peso <= 5:\n",
        "    preco_por_100km = 8\n",
        "else:\n",
        "    preco_por_100km = 10\n",
        "\n",
        "frete = (distancia / 100) * preco_por_100km\n",
        "\n",
        "print(f\"Para um pacote de {peso}kg viajando {distancia}km, o valor do frete será R${frete}\")"
      ],
      "metadata": {
        "id": "UQNb4MsTpCXn"
      },
      "execution_count": null,
      "outputs": []
    }
  ]
}